{
 "cells": [
  {
   "cell_type": "markdown",
   "metadata": {
    "colab_type": "text",
    "id": "Tia3MP1SJpgj"
   },
   "source": [
    "# Springboard Data Science Career Track Unit 4 Challenge - Tier 3 Complete\n",
    "\n",
    "## Objectives\n",
    "Hey! Great job getting through those challenging DataCamp courses. You're learning a lot in a short span of time. \n",
    "\n",
    "In this notebook, you're going to apply the skills you've been learning, bridging the gap between the controlled environment of DataCamp and the *slightly* messier work that data scientists do with actual datasets!\n",
    "\n",
    "Here’s the mystery we’re going to solve: ***which boroughs of London have seen the greatest increase in housing prices, on average, over the last two decades?***\n",
    "\n",
    "\n",
    "A borough is just a fancy word for district. You may be familiar with the five boroughs of New York… well, there are 32 boroughs within Greater London [(here's some info for the curious)](https://en.wikipedia.org/wiki/London_boroughs). Some of them are more desirable areas to live in, and the data will reflect that with a greater rise in housing prices.\n",
    "\n",
    "***This is the Tier 3 notebook, which means it's not filled in at all: we'll just give you the skeleton of a project, the brief and the data. It's up to you to play around with it and see what you can find out! Good luck! If you struggle, feel free to look at easier tiers for help; but try to dip in and out of them, as the more independent work you do, the better it is for your learning!***\n",
    "\n",
    "This challenge will make use of only what you learned in the following DataCamp courses: \n",
    "- Prework courses (Introduction to Python for Data Science, Intermediate Python for Data Science)\n",
    "- Data Types for Data Science\n",
    "- Python Data Science Toolbox (Part One) \n",
    "- pandas Foundations\n",
    "- Manipulating DataFrames with pandas\n",
    "- Merging DataFrames with pandas\n",
    "\n",
    "Of the tools, techniques and concepts in the above DataCamp courses, this challenge should require the application of the following: \n",
    "- **pandas**\n",
    "    - **data ingestion and inspection** (pandas Foundations, Module One) \n",
    "    - **exploratory data analysis** (pandas Foundations, Module Two)\n",
    "    - **tidying and cleaning** (Manipulating DataFrames with pandas, Module Three) \n",
    "    - **transforming DataFrames** (Manipulating DataFrames with pandas, Module One)\n",
    "    - **subsetting DataFrames with lists** (Manipulating DataFrames with pandas, Module One) \n",
    "    - **filtering DataFrames** (Manipulating DataFrames with pandas, Module One) \n",
    "    - **grouping data** (Manipulating DataFrames with pandas, Module Four) \n",
    "    - **melting data** (Manipulating DataFrames with pandas, Module Three) \n",
    "    - **advanced indexing** (Manipulating DataFrames with pandas, Module Four) \n",
    "- **matplotlib** (Intermediate Python for Data Science, Module One)\n",
    "- **fundamental data types** (Data Types for Data Science, Module One) \n",
    "- **dictionaries** (Intermediate Python for Data Science, Module Two)\n",
    "- **handling dates and times** (Data Types for Data Science, Module Four)\n",
    "- **function definition** (Python Data Science Toolbox - Part One, Module One)\n",
    "- **default arguments, variable length, and scope** (Python Data Science Toolbox - Part One, Module Two) \n",
    "- **lambda functions and error handling** (Python Data Science Toolbox - Part One, Module Four) "
   ]
  },
  {
   "cell_type": "markdown",
   "metadata": {
    "colab_type": "text",
    "id": "Ipgd2nV8Jpgl"
   },
   "source": [
    "## The Data Science Pipeline\n",
    "\n",
    "This is Tier Three, so we'll get you started. But after that, it's all in your hands! When you feel done with your investigations, look back over what you've accomplished, and prepare a quick presentation of your findings for the next mentor meeting. \n",
    "\n",
    "Data Science is magical. In this case study, you'll get to apply some complex machine learning algorithms. But as  [David Spiegelhalter](https://www.youtube.com/watch?v=oUs1uvsz0Ok) reminds us, there is no substitute for simply **taking a really, really good look at the data.** Sometimes, this is all we need to answer our question.\n",
    "\n",
    "Data Science projects generally adhere to the four stages of Data Science Pipeline:\n",
    "1. Sourcing and loading \n",
    "2. Cleaning, transforming, and visualizing \n",
    "3. Modeling \n",
    "4. Evaluating and concluding \n"
   ]
  },
  {
   "cell_type": "markdown",
   "metadata": {
    "colab_type": "text",
    "id": "zswDqbefJpgm"
   },
   "source": [
    "### 1. Sourcing and Loading \n",
    "\n",
    "Any Data Science project kicks off by importing  ***pandas***. The documentation of this wonderful library can be found [here](https://pandas.pydata.org/). As you've seen, pandas is conveniently connected to the [Numpy](http://www.numpy.org/) and [Matplotlib](https://matplotlib.org/) libraries. \n",
    "\n",
    "***Hint:*** This part of the data science pipeline will test those skills you acquired in the pandas Foundations course, Module One. "
   ]
  },
  {
   "cell_type": "markdown",
   "metadata": {
    "colab_type": "text",
    "id": "aEau5nEvJpgm"
   },
   "source": [
    "#### 1.1. Importing Libraries"
   ]
  },
  {
   "cell_type": "code",
   "execution_count": 284,
   "metadata": {
    "colab": {},
    "colab_type": "code",
    "id": "7Bt_Q_oPJpgn"
   },
   "outputs": [],
   "source": [
    "# Let's import the pandas, numpy libraries as pd, and np respectively. \n",
    "import pandas as pd\n",
    "import numpy as np\n",
    "\n",
    "# Load the pyplot collection of functions from matplotlib, as plt \n",
    "import matplotlib.pyplot as plt"
   ]
  },
  {
   "cell_type": "markdown",
   "metadata": {
    "colab_type": "text",
    "id": "koUrawxsJpgq"
   },
   "source": [
    "#### 1.2.  Loading the data\n",
    "Your data comes from the [London Datastore](https://data.london.gov.uk/): a free, open-source data-sharing portal for London-oriented datasets. "
   ]
  },
  {
   "cell_type": "code",
   "execution_count": 285,
   "metadata": {
    "colab": {},
    "colab_type": "code",
    "id": "AiLiD4v3Jpgr"
   },
   "outputs": [],
   "source": [
    "# First, make a variable called url_LondonHousePrices, and assign it the following link, enclosed in quotation-marks as a string:\n",
    "# https://data.london.gov.uk/download/uk-house-price-index/70ac0766-8902-4eb5-aab5-01951aaed773/UK%20House%20price%20index.xls\n",
    "\n",
    "url_LondonHousePrices = \"https://data.london.gov.uk/download/uk-house-price-index/70ac0766-8902-4eb5-aab5-01951aaed773/UK%20House%20price%20index.xls\"\n",
    "\n",
    "# The dataset we're interested in contains the Average prices of the houses, and is actually on a particular sheet of the Excel file. \n",
    "# As a result, we need to specify the sheet name in the read_excel() method.\n",
    "# Put this data into a variable called properties.  \n",
    "properties = pd.read_excel(url_LondonHousePrices, sheet_name='Average price', index_col= None)"
   ]
  },
  {
   "cell_type": "markdown",
   "metadata": {
    "colab_type": "text",
    "id": "POukEJXgJpgu"
   },
   "source": [
    "### 2. Cleaning, transforming, and visualizing\n",
    "This second stage is arguably the most important part of any Data Science project. The first thing to do is take a proper look at the data. Cleaning forms the majority of this stage, and can be done both before or after Transformation.\n",
    "\n",
    "The end goal of data cleaning is to have tidy data. When data is tidy: \n",
    "\n",
    "1. Each variable has a column.\n",
    "2. Each observation forms a row.\n",
    "\n",
    "Keep the end goal in mind as you move through this process, every step will take you closer. \n",
    "\n",
    "\n",
    "\n",
    "***Hint:*** This part of the data science pipeline should test those skills you acquired in: \n",
    "- Intermediate Python for data science, all modules.\n",
    "- pandas Foundations, all modules. \n",
    "- Manipulating DataFrames with pandas, all modules.\n",
    "- Data Types for Data Science, Module Four.\n",
    "- Python Data Science Toolbox - Part One, all modules"
   ]
  },
  {
   "cell_type": "markdown",
   "metadata": {
    "colab_type": "text",
    "id": "Te0Q548tnzZa"
   },
   "source": [
    "**2.1. Exploring your data** \n",
    "\n",
    "Think about your pandas functions for checking out a dataframe. "
   ]
  },
  {
   "cell_type": "code",
   "execution_count": 286,
   "metadata": {
    "colab": {},
    "colab_type": "code",
    "id": "Rxirxw_qoAJa"
   },
   "outputs": [
    {
     "name": "stdout",
     "output_type": "stream",
     "text": [
      "  Unnamed: 0 City of London Barking & Dagenham       Barnet       Bexley  \\\n",
      "0        NaT      E09000001          E09000002    E09000003    E09000004   \n",
      "1 1995-01-01    91448.98487         50460.2266  93284.51832  64958.09036   \n",
      "2 1995-02-01    82202.77314        51085.77983  93190.16963  64787.92069   \n",
      "3 1995-03-01    79120.70256        51268.96956  92247.52435  64367.49344   \n",
      "4 1995-04-01    77101.20804        53133.50526  90762.87492  64277.66881   \n",
      "\n",
      "         Brent      Bromley       Camden      Croydon       Ealing  ...  \\\n",
      "0    E09000005    E09000006    E09000007    E09000008    E09000009  ...   \n",
      "1  71306.56698  81671.47692  120932.8881  69158.16225  79885.89069  ...   \n",
      "2  72022.26197  81657.55944  119508.8622  68951.09542  80897.06551  ...   \n",
      "3  72015.76274  81449.31143  120282.2131  68712.44341  81379.86288  ...   \n",
      "4  72965.63094  81124.41227   120097.899  68610.04641  82188.90498  ...   \n",
      "\n",
      "    NORTH WEST YORKS & THE HUMBER EAST MIDLANDS WEST MIDLANDS EAST OF ENGLAND  \\\n",
      "0    E12000002          E12000003     E12000004     E12000005       E12000006   \n",
      "1  43958.48001        44803.42878   45544.52227   48527.52339      56701.5961   \n",
      "2  43925.42289        44528.80721   46051.57066   49341.29029     56593.59475   \n",
      "3   44434.8681        45200.46775   45383.82395   49442.17973     56171.18278   \n",
      "4   44267.7796        45614.34341   46124.23045   49455.93299     56567.89582   \n",
      "\n",
      "        LONDON   SOUTH EAST   SOUTH WEST Unnamed: 47      England  \n",
      "0    E12000007    E12000008    E12000009         NaN    E92000001  \n",
      "1  74435.76052  64018.87894   54705.1579         NaN  53202.77128  \n",
      "2  72777.93709  63715.02399  54356.14843         NaN   53096.1549  \n",
      "3  73896.84204  64113.60858  53583.07667         NaN   53201.2843  \n",
      "4  74455.28754  64623.22395  54786.01938         NaN   53590.8548  \n",
      "\n",
      "[5 rows x 49 columns]\n"
     ]
    }
   ],
   "source": [
    "print(properties.head())"
   ]
  },
  {
   "cell_type": "markdown",
   "metadata": {
    "colab_type": "text",
    "id": "tE9Sqt9-oAta"
   },
   "source": [
    "**2.2. Cleaning the data**\n",
    "\n",
    "You might find you need to transpose your dataframe, check out what its row indexes are, and reset the index. You  also might find you need to assign the values of the first row to your column headings  . (Hint: recall the .columns feature of DataFrames, as well as the iloc[] method).\n",
    "\n",
    "Don't be afraid to use StackOverflow for help  with this."
   ]
  },
  {
   "cell_type": "code",
   "execution_count": 287,
   "metadata": {
    "colab": {},
    "colab_type": "code",
    "id": "cdAu1A3YoH_r"
   },
   "outputs": [
    {
     "name": "stdout",
     "output_type": "stream",
     "text": [
      "0          Unnamed: 0        NaT  1995-01-01 00:00:00  1995-02-01 00:00:00  \\\n",
      "0          Unnamed: 0        NaT  1995-01-01 00:00:00  1995-02-01 00:00:00   \n",
      "1      City of London  E09000001          91448.98487          82202.77314   \n",
      "2  Barking & Dagenham  E09000002           50460.2266          51085.77983   \n",
      "3              Barnet  E09000003          93284.51832          93190.16963   \n",
      "4              Bexley  E09000004          64958.09036          64787.92069   \n",
      "\n",
      "0  1995-03-01 00:00:00  1995-04-01 00:00:00  1995-05-01 00:00:00  \\\n",
      "0  1995-03-01 00:00:00  1995-04-01 00:00:00  1995-05-01 00:00:00   \n",
      "1          79120.70256          77101.20804          84409.14932   \n",
      "2          51268.96956          53133.50526          53042.24852   \n",
      "3          92247.52435          90762.87492          90258.00033   \n",
      "4          64367.49344          64277.66881          63997.13588   \n",
      "\n",
      "0  1995-06-01 00:00:00  1995-07-01 00:00:00  1995-08-01 00:00:00  ...  \\\n",
      "0  1995-06-01 00:00:00  1995-07-01 00:00:00  1995-08-01 00:00:00  ...   \n",
      "1          94900.51244          110128.0423          112329.4376  ...   \n",
      "2          53700.34831          52113.12157          52232.19868  ...   \n",
      "3          90107.23471          91441.24768          92361.31512  ...   \n",
      "4          64252.32335          63722.70055          64432.60005  ...   \n",
      "\n",
      "0  2022-02-01 00:00:00  2022-03-01 00:00:00  2022-04-01 00:00:00  \\\n",
      "0  2022-02-01 00:00:00  2022-03-01 00:00:00  2022-04-01 00:00:00   \n",
      "1         849362.10359         824133.84749         816422.34262   \n",
      "2         338140.92018         338630.76578          334154.4325   \n",
      "3         569623.80083         572378.86549         581748.16762   \n",
      "4         382615.07011         386187.71672         384938.87516   \n",
      "\n",
      "0  2022-05-01 00:00:00  2022-06-01 00:00:00  2022-07-01 00:00:00  \\\n",
      "0  2022-05-01 00:00:00  2022-06-01 00:00:00  2022-07-01 00:00:00   \n",
      "1         803547.89146          827409.5555         811816.90685   \n",
      "2         336216.34247         344634.40197         348406.19705   \n",
      "3          588134.0976         593149.67956         591298.17908   \n",
      "4         386486.54544         392123.23696         396178.74246   \n",
      "\n",
      "0  2022-08-01 00:00:00  2022-09-01 00:00:00  2022-10-01 00:00:00  \\\n",
      "0  2022-08-01 00:00:00  2022-09-01 00:00:00  2022-10-01 00:00:00   \n",
      "1         827263.45864         798952.26179         847145.43392   \n",
      "2          349490.5043         349998.49435          355205.6703   \n",
      "3         598728.88783         603197.24048          598389.1354   \n",
      "4         403542.57044         403388.15587         409595.39249   \n",
      "\n",
      "0  2022-11-01 00:00:00  \n",
      "0  2022-11-01 00:00:00  \n",
      "1         935731.90624  \n",
      "2         359766.13814  \n",
      "3         585172.92015  \n",
      "4         408113.57717  \n",
      "\n",
      "[5 rows x 337 columns]\n"
     ]
    }
   ],
   "source": [
    "#Transpose properties into properties_t\n",
    "properties_t = properties.transpose()\n",
    "\n",
    "#Reset the indexes so the names are not the indexes into variable properties_ti\n",
    "properties_ti = properties_t.reset_index()\n",
    "\n",
    "#grab the first row of data as those are the column names and put them in the variable columns\n",
    "columns = properties_ti.iloc[0]\n",
    "\n",
    "#add proper columns\n",
    "properties_ti.columns = columns\n",
    "\n",
    "#Show the first couple of rows of the transposed and indexed data\n",
    "print(properties_ti.head())"
   ]
  },
  {
   "cell_type": "markdown",
   "metadata": {
    "colab_type": "text",
    "id": "o1uLbJAsoIjK"
   },
   "source": [
    "**2.3. Cleaning the data (part 2)**\n",
    "\n",
    "You might we have to **rename** a couple columns. How do you do this? The clue's pretty bold..."
   ]
  },
  {
   "cell_type": "code",
   "execution_count": 288,
   "metadata": {
    "colab": {},
    "colab_type": "code",
    "id": "GKkmn1AnoVZS"
   },
   "outputs": [
    {
     "name": "stdout",
     "output_type": "stream",
     "text": [
      "0                Borough         ID 1995-01-01 00:00:00 1995-02-01 00:00:00  \\\n",
      "1         City of London  E09000001         91448.98487         82202.77314   \n",
      "2     Barking & Dagenham  E09000002          50460.2266         51085.77983   \n",
      "3                 Barnet  E09000003         93284.51832         93190.16963   \n",
      "4                 Bexley  E09000004         64958.09036         64787.92069   \n",
      "5                  Brent  E09000005         71306.56698         72022.26197   \n",
      "6                Bromley  E09000006         81671.47692         81657.55944   \n",
      "7                 Camden  E09000007         120932.8881         119508.8622   \n",
      "8                Croydon  E09000008         69158.16225         68951.09542   \n",
      "9                 Ealing  E09000009         79885.89069         80897.06551   \n",
      "10               Enfield  E09000010         72514.69096         73155.19746   \n",
      "11             Greenwich  E09000011         62300.10169         60993.26863   \n",
      "12               Hackney  E09000012         61296.52637         63187.08332   \n",
      "13  Hammersmith & Fulham  E09000013         124902.8602          122087.718   \n",
      "14              Haringey  E09000014         76287.56947         78901.21036   \n",
      "15                Harrow  E09000015         84769.52599         83396.10525   \n",
      "16              Havering  E09000016         68000.13774         69393.51294   \n",
      "17            Hillingdon  E09000017         73834.82964          75031.0696   \n",
      "18              Hounslow  E09000018         72231.70537         71051.55852   \n",
      "19             Islington  E09000019         92516.48557         94342.37334   \n",
      "20  Kensington & Chelsea  E09000020         182694.8326         182345.2463   \n",
      "21  Kingston upon Thames  E09000021         80875.84843         81230.13524   \n",
      "22               Lambeth  E09000022         67770.98843         65381.51908   \n",
      "23              Lewisham  E09000023         60491.26109         60869.27091   \n",
      "24                Merton  E09000024          82070.6133         79982.74872   \n",
      "25                Newham  E09000025         53539.31919         53153.88306   \n",
      "26             Redbridge  E09000026         72189.58437          72141.6261   \n",
      "27  Richmond upon Thames  E09000027         109326.1245         111103.0394   \n",
      "28             Southwark  E09000028         67885.20344          64799.0648   \n",
      "29                Sutton  E09000029         71536.97357         70893.20851   \n",
      "30         Tower Hamlets  E09000030         59865.18995         62318.53353   \n",
      "31        Waltham Forest  E09000031         61319.44913         60252.12246   \n",
      "32            Wandsworth  E09000032         88559.04381         88641.01678   \n",
      "33           Westminster  E09000033         133025.2772         131468.3096   \n",
      "34           Unnamed: 34        NaN                 NaN                 NaN   \n",
      "35          Inner London  E13000001          78251.9765         75885.70201   \n",
      "36          Outer London  E13000002         72958.79836         72937.88262   \n",
      "37           Unnamed: 37        NaN                 NaN                 NaN   \n",
      "38            NORTH EAST  E12000001         42076.35411         42571.98949   \n",
      "39            NORTH WEST  E12000002         43958.48001         43925.42289   \n",
      "40    YORKS & THE HUMBER  E12000003         44803.42878         44528.80721   \n",
      "41         EAST MIDLANDS  E12000004         45544.52227         46051.57066   \n",
      "42         WEST MIDLANDS  E12000005         48527.52339         49341.29029   \n",
      "43       EAST OF ENGLAND  E12000006          56701.5961         56593.59475   \n",
      "44                LONDON  E12000007         74435.76052         72777.93709   \n",
      "45            SOUTH EAST  E12000008         64018.87894         63715.02399   \n",
      "46            SOUTH WEST  E12000009          54705.1579         54356.14843   \n",
      "47           Unnamed: 47        NaN                 NaN                 NaN   \n",
      "48               England  E92000001         53202.77128          53096.1549   \n",
      "\n",
      "0  1995-03-01 00:00:00 1995-04-01 00:00:00 1995-05-01 00:00:00  \\\n",
      "1          79120.70256         77101.20804         84409.14932   \n",
      "2          51268.96956         53133.50526         53042.24852   \n",
      "3          92247.52435         90762.87492         90258.00033   \n",
      "4          64367.49344         64277.66881         63997.13588   \n",
      "5          72015.76274         72965.63094         73704.04743   \n",
      "6          81449.31143         81124.41227         81542.61561   \n",
      "7          120282.2131          120097.899         119929.2782   \n",
      "8          68712.44341         68610.04641          68844.9169   \n",
      "9          81379.86288         82188.90498         82077.05525   \n",
      "10         72190.44144         71442.92235         70630.77955   \n",
      "11         61377.83464          61927.7246         63512.99103   \n",
      "12         63593.29935         65139.64403         66193.99212   \n",
      "13         120635.9467         121424.6241          124433.539   \n",
      "14         78521.94855         79545.57477          79374.0349   \n",
      "15         83416.23759         83567.88439         83853.65615   \n",
      "16         69368.02407         69444.26215         68534.52248   \n",
      "17         74188.66949         73911.40591         73117.12416   \n",
      "18         72097.99411         71890.28339         72877.47219   \n",
      "19         93465.86407         93344.49305         94346.39917   \n",
      "20         182878.8231         184176.9168         191474.1141   \n",
      "21         81111.48848         81672.80476         82123.51084   \n",
      "22         66336.51868          66388.7716         69035.11076   \n",
      "23         60288.03002         59471.03136         58551.38387   \n",
      "24         80661.68279         79990.54333         80873.98643   \n",
      "25         53458.26393         54479.75395         55803.95958   \n",
      "26         72501.35502         72228.60295         72366.64122   \n",
      "27         107325.4742              106875         107707.6799   \n",
      "28         65763.29719         63073.62117         64420.49933   \n",
      "29         70306.83844          69411.9439         69759.21989   \n",
      "30         63938.67686         66233.19383         66432.85846   \n",
      "31         60871.08493         60971.39722         61494.16938   \n",
      "32         87124.81523         87026.00225         86518.05945   \n",
      "33         132260.3417         133370.2036         133911.1117   \n",
      "34                 NaN                 NaN                 NaN   \n",
      "35         76591.59947         76851.56697         79129.19443   \n",
      "36         72714.53478         72591.92469         72752.99414   \n",
      "37                 NaN                 NaN                 NaN   \n",
      "38         42369.72984          42095.8436         43266.45165   \n",
      "39          44434.8681          44267.7796         44223.61973   \n",
      "40         45200.46775         45614.34341         44830.98563   \n",
      "41         45383.82395         46124.23045         45878.00396   \n",
      "42         49442.17973         49455.93299         50369.66188   \n",
      "43         56171.18278         56567.89582         56479.80183   \n",
      "44         73896.84204         74455.28754         75432.02786   \n",
      "45         64113.60858         64623.22395         64530.36358   \n",
      "46         53583.07667         54786.01938         54698.83831   \n",
      "47                 NaN                 NaN                 NaN   \n",
      "48          53201.2843          53590.8548         53678.24041   \n",
      "\n",
      "0  1995-06-01 00:00:00 1995-07-01 00:00:00 1995-08-01 00:00:00  ...  \\\n",
      "1          94900.51244         110128.0423         112329.4376  ...   \n",
      "2          53700.34831         52113.12157         52232.19868  ...   \n",
      "3          90107.23471         91441.24768         92361.31512  ...   \n",
      "4          64252.32335         63722.70055         64432.60005  ...   \n",
      "5          74310.48167         74127.03788          73547.0411  ...   \n",
      "6          82382.83435         82898.52264         82054.37156  ...   \n",
      "7          121887.4625         124027.5768         125529.8039  ...   \n",
      "8          69052.51103         69142.48112         68993.42545  ...   \n",
      "9          81630.66181          82352.2226         82706.65927  ...   \n",
      "10         71348.31147         71837.54011         72237.94562  ...   \n",
      "11         64751.56404         65486.34112         65076.43195  ...   \n",
      "12         66921.17101           68390.753         68096.79385  ...   \n",
      "13         126175.1513         124381.5134         123625.3196  ...   \n",
      "14          79956.3621         80746.34881         81217.69074  ...   \n",
      "15         84173.24689         84226.69844         84430.61796  ...   \n",
      "16         68464.60664         68680.83996         69023.36482  ...   \n",
      "17         74005.00585         74671.13263         74967.86534  ...   \n",
      "18         72331.08116         73717.78844         74479.94802  ...   \n",
      "19         97428.94311         98976.14077         98951.20791  ...   \n",
      "20         197265.7602         197963.3169         198037.4218  ...   \n",
      "21         82205.66822           82525.793         83342.84552  ...   \n",
      "22         68881.15764         69608.72242         68840.02827  ...   \n",
      "23         58041.43543         58126.37811          58151.3154  ...   \n",
      "24         80704.92667         81055.90335         80781.09186  ...   \n",
      "25         56067.76986         55458.31693         54709.35467  ...   \n",
      "26          72279.4325         72880.83974         73275.16891  ...   \n",
      "27         112865.0542         114656.6011         112320.4096  ...   \n",
      "28         64155.81449         67024.74767         65525.94434  ...   \n",
      "29         70125.24728         70789.57284         69958.41918  ...   \n",
      "30         66232.16372         64692.22672         63472.27558  ...   \n",
      "31         61547.79643         61933.52738          61916.4222  ...   \n",
      "32          88114.3351         89830.58934         90560.68078  ...   \n",
      "33         134562.1941         133450.2162         136581.5082  ...   \n",
      "34                 NaN                 NaN                 NaN  ...   \n",
      "35          79969.1525         80550.47935         80597.64563  ...   \n",
      "36         73189.39978         73665.90517         73691.12888  ...   \n",
      "37                 NaN                 NaN                 NaN  ...   \n",
      "38         42315.34372         43287.74323         41899.05494  ...   \n",
      "39         44112.96432         44109.58764         44193.66583  ...   \n",
      "40         45392.63981         45534.99864         45111.45939  ...   \n",
      "41         45679.99539         46037.67312         45922.53585  ...   \n",
      "42         50100.43023         49860.00809         49598.45969  ...   \n",
      "43         56288.94557         57242.30186         56732.40547  ...   \n",
      "44         75606.24501         75984.24079         75529.34488  ...   \n",
      "45           65511.008         65224.88465         64851.60429  ...   \n",
      "46         54420.15939         54265.86368         54365.71495  ...   \n",
      "47                 NaN                 NaN                 NaN  ...   \n",
      "48         53735.15475         53900.60633         53600.31975  ...   \n",
      "\n",
      "0  2022-02-01 00:00:00 2022-03-01 00:00:00 2022-04-01 00:00:00  \\\n",
      "1         849362.10359        824133.84749        816422.34262   \n",
      "2         338140.92018        338630.76578         334154.4325   \n",
      "3         569623.80083        572378.86549        581748.16762   \n",
      "4         382615.07011        386187.71672        384938.87516   \n",
      "5         511369.12919        510197.10529        521597.06535   \n",
      "6         479175.04747        480942.34725        487594.60352   \n",
      "7          869304.3176        880128.14194        872948.97212   \n",
      "8         405126.73724        408879.83282        412080.36203   \n",
      "9          518329.5088        516271.44574        513803.60641   \n",
      "10        433491.32499         436069.1934        442885.07343   \n",
      "11        411754.28619        414329.88986        412433.76263   \n",
      "12        635847.54953        633276.02091        608914.80062   \n",
      "13        757397.80109         751892.7391        747955.09095   \n",
      "14        588614.19353        589485.33861        578954.92781   \n",
      "15        512621.55081        507172.79097        500926.80955   \n",
      "16        405104.21555        407077.56525        414966.51953   \n",
      "17        440528.96191        446197.35652        446954.89971   \n",
      "18        427873.16647        424068.68198        427430.07619   \n",
      "19        691261.18735        699198.29363           720946.02   \n",
      "20        1403941.9423        1473989.5042        1511951.8716   \n",
      "21        524228.08433         528571.0339        522748.02429   \n",
      "22        543430.39063        542160.40786        544228.11087   \n",
      "23        437775.57676        446759.83849        447256.43543   \n",
      "24        553826.75598        546658.44912        557301.84796   \n",
      "25        392475.27254        401327.68125        397582.78039   \n",
      "26        470874.86403        469338.57035        470359.38327   \n",
      "27        739491.30875        746150.31939        758274.32325   \n",
      "28         529371.5629        530344.81676        532042.68614   \n",
      "29        419816.01456        420020.89361         420816.2454   \n",
      "30        455556.47999        464637.98379        467131.12536   \n",
      "31        477070.53239         477854.1751        479250.11745   \n",
      "32        629622.24991        634251.36995        644992.65678   \n",
      "33        1063782.3941        1053287.9951        1034611.3502   \n",
      "34                 NaN                 NaN                 NaN   \n",
      "35        611918.50416        617255.27807        617736.25221   \n",
      "36        466600.22093        468023.55795        471065.50678   \n",
      "37                 NaN                 NaN                 NaN   \n",
      "38        149213.42332        151002.29846        152916.29756   \n",
      "39        201096.66039        202235.54266        204215.22256   \n",
      "40        197028.52589        196521.88418        198657.93856   \n",
      "41         233148.1327        235795.76265        237790.65802   \n",
      "42        234759.81156        237828.42207         240184.7195   \n",
      "43         339591.5588        340942.35079        342370.56752   \n",
      "44        518552.31491        517906.98612        524778.72143   \n",
      "45        375282.36752        379171.99466        380645.86298   \n",
      "46        309501.98211        311556.04264        316665.70147   \n",
      "47                 NaN                 NaN                 NaN   \n",
      "48        291768.41589        293615.26185        296344.89317   \n",
      "\n",
      "0  2022-05-01 00:00:00 2022-06-01 00:00:00 2022-07-01 00:00:00  \\\n",
      "1         803547.89146         827409.5555        811816.90685   \n",
      "2         336216.34247        344634.40197        348406.19705   \n",
      "3          588134.0976        593149.67956        591298.17908   \n",
      "4         386486.54544        392123.23696        396178.74246   \n",
      "5         529215.55293        528435.52216        546369.73667   \n",
      "6          491271.1038        501529.75775        503808.70803   \n",
      "7         846413.34464        833254.76311        846966.90298   \n",
      "8          415260.3641        415549.43995        419098.18458   \n",
      "9         517031.81689        522216.38733        527746.15634   \n",
      "10        448777.92067        448958.59199         448643.0087   \n",
      "11        423564.22338        433718.55621        435564.47459   \n",
      "12        605181.58521        619989.53186        640347.55357   \n",
      "13        744931.59717        758244.75579        778207.13174   \n",
      "14        585513.59482        587853.68169        595915.15162   \n",
      "15        506206.34625         518333.2832        535326.56106   \n",
      "16        419949.80909        420854.53143        422533.21705   \n",
      "17        448621.81485        453080.75107        456469.44468   \n",
      "18        431125.15509        446262.10803        451605.01197   \n",
      "19        734719.94166        721005.72067        713973.04608   \n",
      "20        1489402.6116         1452515.228        1424306.1302   \n",
      "21        533129.54264        534923.36553        551379.45895   \n",
      "22         540467.0729        543713.41518        550373.65595   \n",
      "23        448323.77292        454431.12245        464391.27482   \n",
      "24        560687.06131        565044.75832        574125.24071   \n",
      "25        403891.92652        405299.19205        414971.10578   \n",
      "26        460314.98968        466581.34577        471166.88427   \n",
      "27        750840.25115         757615.6529         744245.4559   \n",
      "28        535635.31836        548486.66872         558405.9062   \n",
      "29        425103.15061        433990.40348        439248.94614   \n",
      "30        471883.84319        471776.23121        477212.70364   \n",
      "31        485355.80003        496654.73194        511700.99539   \n",
      "32        640383.76945        642417.84586        644575.98828   \n",
      "33        993688.76025        990177.70758        972535.88034   \n",
      "34                 NaN                 NaN                 NaN   \n",
      "35        615881.11341        618465.52188        625210.07147   \n",
      "36        474728.97015        480639.43793        485262.42628   \n",
      "37                 NaN                 NaN                 NaN   \n",
      "38        153640.51742        155482.06349        160551.61123   \n",
      "39        207194.15157          209617.265        214477.36794   \n",
      "40        203695.90625        204712.60719        208026.49123   \n",
      "41        239750.78172        243863.32647        245771.22267   \n",
      "42        243876.36283        244014.47048        252044.55233   \n",
      "43        346689.74602        350235.34528        354932.28753   \n",
      "44        524467.52843        532626.69019        540741.01235   \n",
      "45        384583.30464        388738.35297        394738.23296   \n",
      "46        321695.03802        321398.17743        329123.42008   \n",
      "47                 NaN                 NaN                 NaN   \n",
      "48        299916.33247        302633.86745        308375.19641   \n",
      "\n",
      "0  2022-08-01 00:00:00 2022-09-01 00:00:00 2022-10-01 00:00:00  \\\n",
      "1         827263.45864        798952.26179        847145.43392   \n",
      "2          349490.5043        349998.49435         355205.6703   \n",
      "3         598728.88783        603197.24048         598389.1354   \n",
      "4         403542.57044        403388.15587        409595.39249   \n",
      "5         560870.73572        583298.26696        580215.08846   \n",
      "6         512705.31022        516153.54001        523083.27164   \n",
      "7         866072.69068        855268.80541        843445.80037   \n",
      "8         426400.97523        432494.23272        432431.04111   \n",
      "9         531255.87677        537117.27594         543325.5324   \n",
      "10        452618.59278        456951.99233        463200.35599   \n",
      "11        435798.74991        441439.63826        445280.68486   \n",
      "12        652784.15615        655727.87023        656516.18115   \n",
      "13        801639.68901        802095.84143        781109.40628   \n",
      "14        601077.82305        621848.85262        619059.91087   \n",
      "15        538368.42954        535897.49377        531843.13624   \n",
      "16        424876.00889        431570.42285        434050.10862   \n",
      "17        461433.96368        468255.84108        479114.76671   \n",
      "18        453699.03372         457083.6454        460252.82796   \n",
      "19        728449.71814        748732.23711        741705.75359   \n",
      "20        1433855.2614        1459747.2111        1355422.1556   \n",
      "21        554609.08555        567620.67986        576341.52582   \n",
      "22        557311.88863        558384.58107        554044.50115   \n",
      "23        472954.20654        470063.03204        465888.60591   \n",
      "24        583235.73908        592181.66614        587010.24234   \n",
      "25        414613.78391        419025.82795        423410.94743   \n",
      "26        486446.87784        485914.09877         488543.9898   \n",
      "27        769149.48364        773999.09126        781115.23999   \n",
      "28        559064.90296        562136.56367        558040.21062   \n",
      "29        443034.23275        446500.07341        445194.09835   \n",
      "30         475969.5104        485422.50097        489437.43573   \n",
      "31        521992.12313        525012.74531        525588.38099   \n",
      "32        661326.92572        664458.21743        658414.41348   \n",
      "33        980820.47312        939846.23052        945112.25952   \n",
      "34                 NaN                 NaN                 NaN   \n",
      "35        633851.46533        636963.50234        631484.45648   \n",
      "36        491979.34874         496942.5956        499917.06706   \n",
      "37                 NaN                 NaN                 NaN   \n",
      "38        162301.45527        164649.25338        167001.77334   \n",
      "39        216896.50429        219272.36932         220314.4209   \n",
      "40        211076.53526        213308.04315        213818.61214   \n",
      "41        251218.42797        252892.81361        252924.03075   \n",
      "42        253086.17922        255320.53595        257224.83657   \n",
      "43        359869.08032        362731.95452        362899.80314   \n",
      "44        546572.73626        545836.82679        541684.65676   \n",
      "45        400731.52995        404579.11689        404344.88296   \n",
      "46        335151.85335        337033.91203        338211.72354   \n",
      "47                 NaN                 NaN                 NaN   \n",
      "48        312608.15924        315049.33872        315578.46557   \n",
      "\n",
      "0  2022-11-01 00:00:00  \n",
      "1         935731.90624  \n",
      "2         359766.13814  \n",
      "3         585172.92015  \n",
      "4         408113.57717  \n",
      "5         576102.60656  \n",
      "6          525145.1568  \n",
      "7         848175.15466  \n",
      "8         430294.62379  \n",
      "9         546534.85697  \n",
      "10        463876.98314  \n",
      "11         445576.8847  \n",
      "12        653045.85891  \n",
      "13        737402.49479  \n",
      "14        627514.96968  \n",
      "15        526805.75513  \n",
      "16        440446.51055  \n",
      "17        488425.68562  \n",
      "18        468882.69792  \n",
      "19        713205.47199  \n",
      "20        1349778.3806  \n",
      "21        576396.23026  \n",
      "22        553423.81863  \n",
      "23        472336.32843  \n",
      "24        582370.15054  \n",
      "25        421036.21219  \n",
      "26        492711.83266  \n",
      "27         764788.7273  \n",
      "28        564803.74545  \n",
      "29        447067.21538  \n",
      "30        487224.93102  \n",
      "31        524111.23272  \n",
      "32        643910.41623  \n",
      "33        934508.24185  \n",
      "34                 NaN  \n",
      "35        626889.66107  \n",
      "36        499969.57194  \n",
      "37                 NaN  \n",
      "38        162596.44579  \n",
      "39         221223.6972  \n",
      "40        212329.45699  \n",
      "41        253498.33909  \n",
      "42         256937.2398  \n",
      "43        365144.26862  \n",
      "44        542310.89724  \n",
      "45        402466.09073  \n",
      "46         337144.1219  \n",
      "47                 NaN  \n",
      "48        315072.63643  \n",
      "\n",
      "[48 rows x 337 columns]\n"
     ]
    }
   ],
   "source": [
    "#rename the 'Unnamed: 0' Column to 'Borough'\n",
    "properties_ti.rename(columns={'Unnamed: 0':'Borough',pd.NaT:'ID'},inplace=True)\n",
    "\n",
    "#remove the first row now that they have been moved to columns. Save in new variable new_properties_ti\n",
    "new_properties_ti = properties_ti.iloc[1:]\n",
    "\n",
    "print(new_properties_ti)"
   ]
  },
  {
   "cell_type": "markdown",
   "metadata": {
    "colab_type": "text",
    "id": "jy8BzXHmoWEw"
   },
   "source": [
    "**2.4.Transforming the data**\n",
    "\n",
    "Remember what Wes McKinney said about tidy data? \n",
    "\n",
    "You might need to **melt** your DataFrame here. "
   ]
  },
  {
   "cell_type": "code",
   "execution_count": 289,
   "metadata": {
    "colab": {},
    "colab_type": "code",
    "id": "S2wM0qLuo2Zt"
   },
   "outputs": [
    {
     "name": "stdout",
     "output_type": "stream",
     "text": [
      "                  Borough         ID      Month Average Price\n",
      "0          City of London  E09000001 1995-01-01   91448.98487\n",
      "1      Barking & Dagenham  E09000002 1995-01-01    50460.2266\n",
      "2                  Barnet  E09000003 1995-01-01   93284.51832\n",
      "3                  Bexley  E09000004 1995-01-01   64958.09036\n",
      "4                   Brent  E09000005 1995-01-01   71306.56698\n",
      "...                   ...        ...        ...           ...\n",
      "16075              LONDON  E12000007 2022-11-01  542310.89724\n",
      "16076          SOUTH EAST  E12000008 2022-11-01  402466.09073\n",
      "16077          SOUTH WEST  E12000009 2022-11-01   337144.1219\n",
      "16078         Unnamed: 47        NaN 2022-11-01           NaN\n",
      "16079             England  E92000001 2022-11-01  315072.63643\n",
      "\n",
      "[16080 rows x 4 columns]\n"
     ]
    }
   ],
   "source": [
    "#Melt the Month columns into data points for each borough. Rename the Values to 'Average Price'\n",
    "clean_properties = new_properties_ti.melt(id_vars=['Borough', 'ID'],value_name='Average Price')\n",
    "\n",
    "#Rename the '0' column to 'Month'\n",
    "clean_properties.rename(columns={0:'Month'},inplace=True)\n",
    "\n",
    "print(clean_properties)"
   ]
  },
  {
   "cell_type": "markdown",
   "metadata": {
    "colab_type": "text",
    "id": "7kIsgAo7o3mf"
   },
   "source": [
    "Remember to make sure your column data types are all correct. Average prices, for example, should be floating point numbers... "
   ]
  },
  {
   "cell_type": "code",
   "execution_count": 290,
   "metadata": {
    "colab": {},
    "colab_type": "code",
    "id": "ZcR4IHbcpOaq"
   },
   "outputs": [
    {
     "name": "stdout",
     "output_type": "stream",
     "text": [
      "Borough                  object\n",
      "ID                       object\n",
      "Month            datetime64[ns]\n",
      "Average Price           float64\n",
      "dtype: object\n"
     ]
    }
   ],
   "source": [
    "#Convert the 'Average Price' row to a float datatype\n",
    "clean_properties['Average Price'] = pd.to_numeric(clean_properties['Average Price'])\n",
    "\n",
    "print(clean_properties.dtypes)"
   ]
  },
  {
   "cell_type": "markdown",
   "metadata": {
    "colab_type": "text",
    "id": "knLUXHLypOtw"
   },
   "source": [
    "**2.5. Cleaning the data (part 3)**\n",
    "\n",
    "Do we have an equal number of observations in the ID, Average Price, Month, and London Borough columns? Remember that there are only 32 London Boroughs. How many entries do you have in that column? \n",
    "\n",
    "Check out the contents of the London Borough column, and if you find null values, get rid of them however you see fit. "
   ]
  },
  {
   "cell_type": "code",
   "execution_count": 291,
   "metadata": {
    "colab": {},
    "colab_type": "code",
    "id": "BnvTW5a3p0fC"
   },
   "outputs": [
    {
     "name": "stdout",
     "output_type": "stream",
     "text": [
      "    index               Borough         ID      Month  Average Price\n",
      "0       0        City of London  E09000001 1995-01-01    91448.98487\n",
      "1       1    Barking & Dagenham  E09000002 1995-01-01    50460.22660\n",
      "2       2                Barnet  E09000003 1995-01-01    93284.51832\n",
      "3       3                Bexley  E09000004 1995-01-01    64958.09036\n",
      "4       4                 Brent  E09000005 1995-01-01    71306.56698\n",
      "5       5               Bromley  E09000006 1995-01-01    81671.47692\n",
      "6       6                Camden  E09000007 1995-01-01   120932.88810\n",
      "7       7               Croydon  E09000008 1995-01-01    69158.16225\n",
      "8       8                Ealing  E09000009 1995-01-01    79885.89069\n",
      "9       9               Enfield  E09000010 1995-01-01    72514.69096\n",
      "10     10             Greenwich  E09000011 1995-01-01    62300.10169\n",
      "11     11               Hackney  E09000012 1995-01-01    61296.52637\n",
      "12     12  Hammersmith & Fulham  E09000013 1995-01-01   124902.86020\n",
      "13     13              Haringey  E09000014 1995-01-01    76287.56947\n",
      "14     14                Harrow  E09000015 1995-01-01    84769.52599\n",
      "15     15              Havering  E09000016 1995-01-01    68000.13774\n",
      "16     16            Hillingdon  E09000017 1995-01-01    73834.82964\n",
      "17     17              Hounslow  E09000018 1995-01-01    72231.70537\n",
      "18     18             Islington  E09000019 1995-01-01    92516.48557\n",
      "19     19  Kensington & Chelsea  E09000020 1995-01-01   182694.83260\n",
      "20     20  Kingston upon Thames  E09000021 1995-01-01    80875.84843\n",
      "21     21               Lambeth  E09000022 1995-01-01    67770.98843\n",
      "22     22              Lewisham  E09000023 1995-01-01    60491.26109\n",
      "23     23                Merton  E09000024 1995-01-01    82070.61330\n",
      "24     24                Newham  E09000025 1995-01-01    53539.31919\n",
      "25     25             Redbridge  E09000026 1995-01-01    72189.58437\n",
      "26     26  Richmond upon Thames  E09000027 1995-01-01   109326.12450\n",
      "27     27             Southwark  E09000028 1995-01-01    67885.20344\n",
      "28     28                Sutton  E09000029 1995-01-01    71536.97357\n",
      "29     29         Tower Hamlets  E09000030 1995-01-01    59865.18995\n",
      "30     30        Waltham Forest  E09000031 1995-01-01    61319.44913\n",
      "31     31            Wandsworth  E09000032 1995-01-01    88559.04381\n",
      "32     32           Westminster  E09000033 1995-01-01   133025.27720\n",
      "33     48        City of London  E09000001 1995-02-01    82202.77314\n",
      "34     49    Barking & Dagenham  E09000002 1995-02-01    51085.77983\n",
      "35     50                Barnet  E09000003 1995-02-01    93190.16963\n",
      "36     51                Bexley  E09000004 1995-02-01    64787.92069\n",
      "37     52                 Brent  E09000005 1995-02-01    72022.26197\n",
      "38     53               Bromley  E09000006 1995-02-01    81657.55944\n",
      "39     54                Camden  E09000007 1995-02-01   119508.86220\n",
      "40     55               Croydon  E09000008 1995-02-01    68951.09542\n",
      "41     56                Ealing  E09000009 1995-02-01    80897.06551\n",
      "42     57               Enfield  E09000010 1995-02-01    73155.19746\n",
      "43     58             Greenwich  E09000011 1995-02-01    60993.26863\n",
      "44     59               Hackney  E09000012 1995-02-01    63187.08332\n",
      "45     60  Hammersmith & Fulham  E09000013 1995-02-01   122087.71800\n",
      "46     61              Haringey  E09000014 1995-02-01    78901.21036\n",
      "47     62                Harrow  E09000015 1995-02-01    83396.10525\n",
      "48     63              Havering  E09000016 1995-02-01    69393.51294\n",
      "49     64            Hillingdon  E09000017 1995-02-01    75031.06960\n",
      "\n",
      "Total NA Values \n",
      "index            0\n",
      "Borough          0\n",
      "ID               0\n",
      "Month            0\n",
      "Average Price    0\n",
      "dtype: int64\n"
     ]
    }
   ],
   "source": [
    "#print(clean_properties.head(50))\n",
    "#Get all of the Borough's\n",
    "boroughs = clean_properties['Borough']\n",
    "#Subset the boroughs to the 32 boroughs and City of London\n",
    "boroughs_keep = boroughs[:33]\n",
    "\n",
    "#Get boolean subset \n",
    "find_boroughs = clean_properties['Borough'].isin(boroughs_keep)\n",
    "\n",
    "#Subset into only rows that have the proper borough name.\n",
    "new_clean_properties = clean_properties[find_boroughs]\n",
    "\n",
    "#Reset Index\n",
    "new_clean_properties = new_clean_properties.reset_index()\n",
    "\n",
    "#Print the first 50 rows\n",
    "print(new_clean_properties.head(50))\n",
    "\n",
    "#confirm no NA values\n",
    "print('\\nTotal NA Values \\n'+ str(new_clean_properties.isna().sum())) "
   ]
  },
  {
   "cell_type": "markdown",
   "metadata": {
    "colab_type": "text",
    "id": "PGEx6mJsp6dG"
   },
   "source": [
    "**2.6. Visualizing the data**\n",
    "\n",
    "To visualize the data, why not subset on a particular London Borough? Maybe do a line plot of Month against Average Price?"
   ]
  },
  {
   "cell_type": "code",
   "execution_count": 292,
   "metadata": {
    "colab": {},
    "colab_type": "code",
    "id": "nAg5pT9cqHAR"
   },
   "outputs": [
    {
     "data": {
      "image/png": "[encoded data removed]",
      "text/plain": [
       "<Figure size 640x480 with 1 Axes>"
      ]
     },
     "metadata": {},
     "output_type": "display_data"
    },
    {
     "name": "stdout",
     "output_type": "stream",
     "text": [
      "              Borough  Year   index  Average Price\n",
      "0  Barking & Dagenham  1995   265.0   51817.969390\n",
      "1  Barking & Dagenham  1996   841.0   51718.192690\n",
      "2  Barking & Dagenham  1997  1417.0   55974.262309\n",
      "3  Barking & Dagenham  1998  1993.0   60285.821083\n",
      "4  Barking & Dagenham  1999  2569.0   65320.934441\n",
      "         Borough  Year    index  Average Price\n",
      "919  Westminster  2018  13544.0   1.020025e+06\n",
      "920  Westminster  2019  14120.0   9.559986e+05\n",
      "921  Westminster  2020  14696.0   9.604692e+05\n",
      "922  Westminster  2021  15272.0   9.627774e+05\n",
      "923  Westminster  2022  15824.0   9.973779e+05\n"
     ]
    },
    {
     "data": {
      "image/png": "[encoded data removed]",
      "text/plain": [
       "<Figure size 640x480 with 1 Axes>"
      ]
     },
     "metadata": {},
     "output_type": "display_data"
    }
   ],
   "source": [
    "#Attempt to loop through each borough and plot them on top of each other. \n",
    "#Ended up making separate plots for each one so removed for now.\n",
    "'''\n",
    "for b in boroughs_keep.items():\n",
    "    subset = new_clean_properties['Borough'] == b[1]\n",
    "    graphBorough = new_clean_properties[subset]\n",
    "    graphBorough.plot(kind='line',x='Month', y='Average Price',title=b[1])\n",
    "plt.show()\n",
    "'''\n",
    "\n",
    "#Subset of Barking & Dagenham\n",
    "subsetBD = new_clean_properties['Borough'] == 'Barking & Dagenham'\n",
    "fullBD = new_clean_properties[subsetBD]\n",
    "\n",
    "#Plot the Subset for Marking & Dagenham\n",
    "ax= fullBD.plot(kind='line',x='Month', y='Average Price', title='Barking & Dagenham Averge Housing Prices 1995-2020')\n",
    "ax.set_ylabel('Price')\n",
    "plt.show()\n",
    "\n",
    "#Lambda function to add a new 'Year' column to the dataframe.\n",
    "new_clean_properties['Year']=new_clean_properties['Month'].apply(lambda t,:t.year)\n",
    "\n",
    "#Get the mean of each year\n",
    "dfg = new_clean_properties.groupby(by=['Borough', 'Year']).mean()\n",
    "\n",
    "#Reset the indexes\n",
    "dfg = dfg.reset_index()\n",
    "print(dfg.head(5))\n",
    "print(dfg.tail(5))\n",
    "\n",
    "\n",
    "#Plot the data of each borough every year and average price of each year. \n",
    "ax= dfg.plot(kind='line',x='Year', y='Average Price', title='Borough Averge Housing Prices 1995-2020')\n",
    "\n",
    "#Set the Y label\n",
    "ax.set_ylabel('Price')\n",
    "\n",
    "#Show the plot\n",
    "plt.show()\n"
   ]
  },
  {
   "cell_type": "markdown",
   "metadata": {
    "colab_type": "text",
    "id": "aWTPqSJeqHnC"
   },
   "source": [
    "To limit the number of data points you have, you might want to extract the year from every month value your *Month* column. \n",
    "\n",
    "To this end, you *could* apply a ***lambda function***. Your logic could work as follows:\n",
    "1. look through the `Month` column\n",
    "2. extract the year from each individual value in that column \n",
    "3. store that corresponding year as separate column. \n",
    "\n",
    "Whether you go ahead with this is up to you. Just so long as you answer our initial brief: which boroughs of London have seen the greatest house price increase, on average, over the past two decades? "
   ]
  },
  {
   "cell_type": "code",
   "execution_count": 0,
   "metadata": {
    "colab": {},
    "colab_type": "code",
    "id": "e0DF92cyqnu8"
   },
   "outputs": [],
   "source": [
    "#Hackney has the greatest ratio of average price increase"
   ]
  },
  {
   "cell_type": "markdown",
   "metadata": {
    "colab_type": "text",
    "id": "2knuTxAEqoJ4"
   },
   "source": [
    "**3. Modeling**\n",
    "\n",
    "Consider creating a function that will calculate a ratio of house prices, comparing the price of a house in 2018 to the price in 1998.\n",
    "\n",
    "Consider calling this function create_price_ratio.\n",
    "\n",
    "You'd want this function to:\n",
    "1. Take a filter of dfg, specifically where this filter constrains the London_Borough, as an argument. For example, one admissible argument should be: dfg[dfg['London_Borough']=='Camden'].\n",
    "2. Get the Average Price for that Borough, for the years 1998 and 2018.\n",
    "4. Calculate the ratio of the Average Price for 1998 divided by the Average Price for 2018.\n",
    "5. Return that ratio.\n",
    "\n",
    "Once you've written this function, you ultimately want to use it to iterate through all the unique London_Boroughs and work out the ratio capturing the difference of house prices between 1998 and 2018.\n",
    "\n",
    "Bear in mind: you don't have to write a function like this if you don't want to. If you can solve the brief otherwise, then great! \n",
    "\n",
    "***Hint***: This section should test the skills you acquired in:\n",
    "- Python Data Science Toolbox - Part One, all modules"
   ]
  },
  {
   "cell_type": "code",
   "execution_count": 293,
   "metadata": {
    "colab": {},
    "colab_type": "code",
    "id": "cKTyr437UgDa"
   },
   "outputs": [
    {
     "name": "stdout",
     "output_type": "stream",
     "text": [
      "{'Barking & Dagenham': [4.89661861291754], 'Barnet': [4.358195917538044], 'Bexley': [4.248977046127877], 'Brent': [4.8945544971392865], 'Bromley': [4.094784685333876], 'Camden': [4.935353408884261], 'City of London': [5.30162037758761], 'Croydon': [4.201100280024766], 'Ealing': [4.311450902121834], 'Enfield': [4.263471583495811], 'Greenwich': [4.7630363473291935], 'Hackney': [6.198285561008663], 'Hammersmith & Fulham': [4.13779810193623], 'Haringey': [5.134624964136042], 'Harrow': [4.0591964329643195], 'Havering': [4.325230371335307], 'Hillingdon': [4.2002730803844575], 'Hounslow': [3.976409106143329], 'Islington': [4.844048012802297], 'Kensington & Chelsea': [5.082465066092464], 'Kingston upon Thames': [4.270549521484271], 'Lambeth': [4.957751163514062], 'Lewisham': [5.449221041059686], 'Merton': [4.741273313294603], 'Newham': [5.305390437201879], 'Redbridge': [4.471182006097364], 'Richmond upon Thames': [4.005161895721457], 'Southwark': [5.516485302379378], 'Sutton': [4.118522608573157], 'Tower Hamlets': [4.62670104006116], 'Waltham Forest': [5.83475580932281], 'Wandsworth': [4.75770934773927], 'Westminster': [5.353565392605412]}\n"
     ]
    }
   ],
   "source": [
    "def create_price_ratio(filter):\n",
    "    '''Function to take a string that will be the borough, get the Average price for 1998 and 2018, \n",
    "    and get the ratio of the 2018 average diveded by the 1998 average. Return that ratio.'''\n",
    "    filter1998 = float(filter['Average Price'][filter['Year']==1998])\n",
    "    filter2018 = float(filter['Average Price'][filter['Year']==2018])\n",
    "    ratio = [filter2018/filter1998]\n",
    "    return ratio\n",
    "\n",
    "#Create an empty dictionary to store the values of each borough\n",
    "Averages = {}\n",
    "\n",
    "#Testing function line. No longer needed:create_price_ratio(dfg[dfg['Borough']=='Camden'])\n",
    "\n",
    "#For Loop to iterate through all the boroughs and create new keys in the Averages Dictionary\n",
    "for row in dfg['Borough'].unique():\n",
    "    Averages[row] = create_price_ratio(dfg[dfg['Borough']==row])\n",
    "\n",
    "#Print the results of the Averages Dictionary\n",
    "print(Averages)"
   ]
  },
  {
   "cell_type": "markdown",
   "metadata": {
    "colab_type": "text",
    "id": "NzYUI7FxJpgv"
   },
   "source": [
    "### 4. Conclusion\n",
    "What can you conclude? Type out your conclusion below. \n",
    "\n",
    "Look back at your notebook. Think about how you might summarize what you have done, and prepare a quick presentation on it to your mentor at your next meeting. \n",
    "\n",
    "We hope you enjoyed this practical project. It should have consolidated your data hygiene and pandas skills by looking at a real-world problem involving just the kind of dataset you might encounter as a budding data scientist. Congratulations, and looking forward to seeing you at the next step in the course! "
   ]
  }
 ],
 "metadata": {
  "colab": {
   "collapsed_sections": [],
   "name": "Springboard Data Science Career Track Unit 4 Challenge - Tier 3 Complete .ipynb",
   "provenance": []
  },
  "kernelspec": {
   "display_name": "Python 3 (ipykernel)",
   "language": "python",
   "name": "python3"
  },
  "language_info": {
   "codemirror_mode": {
    "name": "ipython",
    "version": 3
   },
   "file_extension": ".py",
   "mimetype": "text/x-python",
   "name": "python",
   "nbconvert_exporter": "python",
   "pygments_lexer": "ipython3",
   "version": "3.9.13"
  }
 },
 "nbformat": 4,
 "nbformat_minor": 1
}
