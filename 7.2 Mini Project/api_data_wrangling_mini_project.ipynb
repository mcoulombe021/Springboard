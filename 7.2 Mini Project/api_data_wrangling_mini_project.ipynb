{
 "cells": [
  {
   "cell_type": "markdown",
   "metadata": {},
   "source": [
    "This exercise will require you to pull some data from https://data.nasdaq.com/ (formerly Quandl API)."
   ]
  },
  {
   "cell_type": "markdown",
   "metadata": {},
   "source": [
    "As a first step, you will need to register a free account on the https://data.nasdaq.com/ website."
   ]
  },
  {
   "cell_type": "markdown",
   "metadata": {},
   "source": [
    "After you register, you will be provided with a unique API key, that you should store:\n",
    "\n",
    "*Note*: Use a `.env` file and put your key in there and `python-dotenv` to access it in this notebook. \n",
    "\n",
    "The code below uses a key that was used when generating this project but has since been deleted. Never submit your keys to source control. There is a `.env-example` file in this repository to illusrtate what you need. Copy that to a file called `.env` and use your own api key in that `.env` file. Make sure you also have a `.gitignore` file with a line for `.env` added to it. \n",
    "\n",
    "The standard Python gitignore is [here](https://github.com/github/gitignore/blob/master/Python.gitignore) you can just copy that. "
   ]
  },
  {
   "cell_type": "code",
   "execution_count": 1,
   "metadata": {},
   "outputs": [],
   "source": [
    "# get api key from your .env file\n",
    "import os\n",
    "from dotenv import load_dotenv\n",
    "\n",
    "load_dotenv()\n",
    "API_KEY = os.getenv('NASDAQ_API_KEY')\n",
    "\n",
    "#print(API_KEY) #Removing the print for submission purposes"
   ]
  },
  {
   "cell_type": "markdown",
   "metadata": {},
   "source": [
    "Nasdaq Data has a large number of data sources, but, unfortunately, most of them require a Premium subscription. Still, there are also a good number of free datasets."
   ]
  },
  {
   "cell_type": "markdown",
   "metadata": {},
   "source": [
    "For this mini project, we will focus on equities data from the Frankfurt Stock Exhange (FSE), which is available for free. We'll try and analyze the stock prices of a company called Carl Zeiss Meditec, which manufactures tools for eye examinations, as well as medical lasers for laser eye surgery: https://www.zeiss.com/meditec/int/home.html. The company is listed under the stock ticker AFX_X."
   ]
  },
  {
   "cell_type": "markdown",
   "metadata": {},
   "source": [
    "You can find the detailed Nasdaq Data API instructions here: https://docs.data.nasdaq.com/docs/in-depth-usage"
   ]
  },
  {
   "cell_type": "markdown",
   "metadata": {},
   "source": [
    "While there is a dedicated Python package for connecting to the Nasdaq API, we would prefer that you use the *requests* package, which can be easily downloaded using *pip* or *conda*. You can find the documentation for the package here: http://docs.python-requests.org/en/master/ "
   ]
  },
  {
   "cell_type": "markdown",
   "metadata": {},
   "source": [
    "Finally, apart from the *requests* package, you are encouraged to not use any third party Python packages, such as *pandas*, and instead focus on what's available in the Python Standard Library (the *collections* module might come in handy: https://pymotw.com/3/collections/).\n",
    "Also, since you won't have access to DataFrames, you are encouraged to us Python's native data structures - preferably dictionaries, though some questions can also be answered using lists.\n",
    "You can read more on these data structures here: https://docs.python.org/3/tutorial/datastructures.html"
   ]
  },
  {
   "cell_type": "markdown",
   "metadata": {},
   "source": [
    "Keep in mind that the JSON responses you will be getting from the API map almost one-to-one to Python's dictionaries. Unfortunately, they can be very nested, so make sure you read up on indexing dictionaries in the documentation provided above."
   ]
  },
  {
   "cell_type": "code",
   "execution_count": 2,
   "metadata": {},
   "outputs": [],
   "source": [
    "# First, import the relevant modules\n",
    "import requests\n",
    "from collections import namedtuple"
   ]
  },
  {
   "cell_type": "markdown",
   "metadata": {},
   "source": [
    "Note: API's can change a bit with each version, for this exercise it is reccomended to use the nasdaq api at `https://data.nasdaq.com/api/v3/`. This is the same api as what used to be quandl so `https://www.quandl.com/api/v3/` should work too.\n",
    "\n",
    "Hint: We are looking for the `AFX_X` data on the `datasets/FSE/` dataset."
   ]
  },
  {
   "cell_type": "code",
   "execution_count": 3,
   "metadata": {},
   "outputs": [
    {
     "data": {
      "text/plain": [
       "dict"
      ]
     },
     "execution_count": 3,
     "metadata": {},
     "output_type": "execute_result"
    }
   ],
   "source": [
    "# Now, call the Nasdaq API and pull out a small sample of the data (only one day) to get a glimpse\n",
    "# into the JSON structure that will be returned\n",
    "\n",
    "url = \"https://data.nasdaq.com/api/v3/datasets/FSE/AFX_X.json?start_date=2020-05-01&end_date=2020-05-01\"\n",
    "r = requests.get(url)\n",
    "json = r.json()\n",
    "type(json)"
   ]
  },
  {
   "cell_type": "code",
   "execution_count": 4,
   "metadata": {},
   "outputs": [
    {
     "data": {
      "text/plain": [
       "{'dataset': {'id': 10095370,\n",
       "  'dataset_code': 'AFX_X',\n",
       "  'database_code': 'FSE',\n",
       "  'name': 'Carl Zeiss Meditec (AFX_X)',\n",
       "  'description': 'Stock Prices for Carl Zeiss Meditec (2020-11-02) from the Frankfurt Stock Exchange.<br><br>Trading System: Xetra<br><br>ISIN: DE0005313704',\n",
       "  'refreshed_at': '2020-12-01T14:48:09.907Z',\n",
       "  'newest_available_date': '2020-12-01',\n",
       "  'oldest_available_date': '2000-06-07',\n",
       "  'column_names': ['Date',\n",
       "   'Open',\n",
       "   'High',\n",
       "   'Low',\n",
       "   'Close',\n",
       "   'Change',\n",
       "   'Traded Volume',\n",
       "   'Turnover',\n",
       "   'Last Price of the Day',\n",
       "   'Daily Traded Units',\n",
       "   'Daily Turnover'],\n",
       "  'frequency': 'daily',\n",
       "  'type': 'Time Series',\n",
       "  'premium': False,\n",
       "  'limit': None,\n",
       "  'transform': None,\n",
       "  'column_index': None,\n",
       "  'start_date': '2020-05-01',\n",
       "  'end_date': '2020-05-01',\n",
       "  'data': [],\n",
       "  'collapse': None,\n",
       "  'order': None,\n",
       "  'database_id': 6129}}"
      ]
     },
     "execution_count": 4,
     "metadata": {},
     "output_type": "execute_result"
    }
   ],
   "source": [
    "# Inspect the JSON structure of the object you created, and take note of how nested it is,\n",
    "# as well as the overall structure\n",
    "json"
   ]
  },
  {
   "cell_type": "markdown",
   "metadata": {},
   "source": [
    "These are your tasks for this mini project:\n",
    "\n",
    "1. Collect data from the Franfurt Stock Exchange, for the ticker AFX_X, for the whole year 2017 (keep in mind that the date format is YYYY-MM-DD).\n",
    "2. Convert the returned JSON object into a Python dictionary.\n",
    "3. Calculate what the highest and lowest opening prices were for the stock in this period.\n",
    "4. What was the largest change in any one day (based on High and Low price)?\n",
    "5. What was the largest change between any two days (based on Closing Price)?\n",
    "6. What was the average daily trading volume during this year?\n",
    "7. (Optional) What was the median trading volume during this year. (Note: you may need to implement your own function for calculating the median.)"
   ]
  },
  {
   "cell_type": "code",
   "execution_count": 5,
   "metadata": {},
   "outputs": [
    {
     "name": "stdout",
     "output_type": "stream",
     "text": [
      "<class 'dict'>\n"
     ]
    }
   ],
   "source": [
    "# 1. Collected Data from FSE for AFX_X for 2017. \n",
    "url = \"https://data.nasdaq.com/api/v3/datasets/FSE/AFX_X.json?start_date=2017-01-01&end_date=2017-12-31\"\n",
    "r = requests.get(url)\n",
    "\n",
    "# 2. Stored the json data into a Dict called json. \n",
    "json = r.json()\n",
    "print(type(json))\n"
   ]
  },
  {
   "cell_type": "code",
   "execution_count": 6,
   "metadata": {},
   "outputs": [
    {
     "name": "stdout",
     "output_type": "stream",
     "text": [
      "['Date', 'Open', 'High', 'Low', 'Close', 'Change', 'Traded_Volume', 'Turnover', 'Last_Price_of_the_Day', 'Daily_Traded_Units', 'Daily_Turnover']\n"
     ]
    },
    {
     "data": {
      "text/plain": [
       "Date(Date='2017-12-29', Open=51.76, High=51.94, Low=51.45, Close=51.76, Change=None, Traded_Volume=34640.0, Turnover=1792304.0, Last_Price_of_the_Day=None, Daily_Traded_Units=None, Daily_Turnover=None)"
      ]
     },
     "execution_count": 6,
     "metadata": {},
     "output_type": "execute_result"
    }
   ],
   "source": [
    "# Convert the Data into an easier datastructure to compare values using the collections module\n",
    "data = list(json['dataset']['data']) #Specified data from json\n",
    "columns = list(json['dataset']['column_names']) #Specified columns from json\n",
    "\n",
    "newColumns = list(columns)\n",
    "\n",
    "for index,column in enumerate(columns) :\n",
    "    newColumns[index] = column.replace(\" \", \"_\")\n",
    "\n",
    "\n",
    "print(newColumns)\n",
    "# NewColumns for Reference\n",
    "#['Date'\n",
    "#,'Open'\n",
    "#,'High'\n",
    "#,'Low'\n",
    "#,'Close'\n",
    "#,'Change'\n",
    "#,'Traded_Volume'\n",
    "#,'Turnover'\n",
    "#,'Last_Price_of_the_Day'\n",
    "#,'Daily_Traded_Units'\n",
    "#,'Daily_Turnover']\n",
    "\n",
    "# Create Named Tuples below\n",
    "\n",
    "#Create a Named Tuple for all the column names (Manually specifying due to the columns having \" \" in original column titles)\n",
    "Stocks = namedtuple('Date', newColumns)\n",
    "\n",
    "#Initialize the list for each date\n",
    "dates = []\n",
    "\n",
    "#Iterate through the data to populate everything with the proper column\n",
    "for value in data:\n",
    "    details = Stocks(value[0], #Date\n",
    "                     value[1], #Open\n",
    "                     value[2], #High\n",
    "                     value[3], #Low\n",
    "                     value[4], #Close\n",
    "                     value[5], #Change\n",
    "                     value[6], #Traded_Volume\n",
    "                     value[7], #Turnover\n",
    "                     value[8], #Last_Price_of_the_Day\n",
    "                     value[9], #Daily_Traded_Units\n",
    "                     value[10] #Daily_Turnover\n",
    "                    )\n",
    "    dates.append(details)\n",
    "\n",
    "#Print the first data point\n",
    "dates[0]"
   ]
  },
  {
   "cell_type": "code",
   "execution_count": 7,
   "metadata": {},
   "outputs": [
    {
     "name": "stdout",
     "output_type": "stream",
     "text": [
      "Min = $34.0 on 2017-01-24\n",
      "Max = $53.11 on 2017-12-14\n"
     ]
    }
   ],
   "source": [
    "# 3. Calculate what the highest and lowest opening prices were for the stock in this period.\n",
    "\n",
    "mini = 9999999 #Set the first mini price really high so the first value overwrites it. \n",
    "maxi = 0 #Set the first maxi price to really low so the first value overwrites it. \n",
    "maxDate = \"\"\n",
    "minDate = \"\"\n",
    "\n",
    "#Loop through data points for the specific task\n",
    "for date in dates:\n",
    "    if isinstance(date.Open,float): #Making sure we only use valid values\n",
    "        checkDate = date.Open\n",
    "    if checkDate > maxi: #Check if there is a new max. If there is, set the max to it and it's date\n",
    "        maxi = checkDate\n",
    "        maxDate = date.Date\n",
    "    if checkDate < mini: #Check if there is a new max. If there is, set the max to it and it's date\n",
    "        mini = checkDate\n",
    "        minDate = date.Date\n",
    "\n",
    "#Print out the values for Min and Max\n",
    "print(\"Min = $\"+str(mini) + \" on \"+ minDate)\n",
    "print(\"Max = $\"+str(maxi) + \" on \"+ maxDate)"
   ]
  },
  {
   "cell_type": "code",
   "execution_count": 8,
   "metadata": {},
   "outputs": [
    {
     "name": "stdout",
     "output_type": "stream",
     "text": [
      "MaxDiff = $2.81 on 2017-05-11\n"
     ]
    }
   ],
   "source": [
    "# 4. What was the largest change in any one day (based on High and Low price)?\n",
    "\n",
    "maxDiff = 0 #Initialize initial difference to 0\n",
    "maxDiffDate = \"\" #Initialize initial date to empty\n",
    "\n",
    "#Loop through data points for the specific task\n",
    "for date in dates:\n",
    "    if isinstance(date.High,float) and isinstance(date.Low,float):\n",
    "        high = date.High\n",
    "        low = date.Low\n",
    "        curDate = date.Date\n",
    "        curDiff = high - low\n",
    "        \n",
    "    if (curDiff > maxDiff):\n",
    "        maxDiff = curDiff\n",
    "        maxDate = curDate\n",
    "        \n",
    "print(\"MaxDiff = $\"+str(round(maxDiff,2)) + \" on \"+ maxDate)"
   ]
  },
  {
   "cell_type": "code",
   "execution_count": 9,
   "metadata": {},
   "outputs": [
    {
     "name": "stdout",
     "output_type": "stream",
     "text": [
      "Largest Change = $19.03 between 2017-12-13(Max) and 2017-01-23(Min)\n"
     ]
    }
   ],
   "source": [
    "# 5. What was the largest change between any two days (based on Closing Price)? \n",
    "# Interpreting this as any two days, does not have to be consecutive\n",
    "\n",
    "mini = 9999999 #Set the first mini price really high so the first value overwrites it. \n",
    "maxi = 0 #Set the first maxi price to really low so the first value overwrites it. \n",
    "maxDate = \"\" #Initializing the dates\n",
    "minDate = \"\" #Initializing the dates\n",
    "\n",
    "#Gather data for biggest and smallest close dates\n",
    "for date in dates:\n",
    "    if isinstance(date.Close,float): #Make sure we are only looking at valid values\n",
    "        checkDate = date.Close\n",
    "    if checkDate > maxi: #If there is a new max, update it and it's date\n",
    "        maxi = checkDate\n",
    "        maxDate = date.Date\n",
    "    if checkDate < mini: #If there is a new min, update it and it's date\n",
    "        mini = checkDate\n",
    "        minDate = date.Date\n",
    "\n",
    "#Calculate the difference beteween the Max and Min\n",
    "diff = maxi-mini\n",
    "\n",
    "#Print the results\n",
    "print(\"Largest Change = $\"+str(round(diff,2)) + \" between \"+ maxDate + \"(Max) and \" + minDate + \"(Min)\")        "
   ]
  },
  {
   "cell_type": "code",
   "execution_count": 10,
   "metadata": {},
   "outputs": [
    {
     "name": "stdout",
     "output_type": "stream",
     "text": [
      "Daily Trading Volume Average of 2017 = $89124.34\n"
     ]
    }
   ],
   "source": [
    "# 6. What was the average daily trading volume during this year?\n",
    "numDays = 0 #Number of days that had a valid value\n",
    "totalTraded = 0 #Total amount traded for valid days\n",
    "\n",
    "#Iterate through the data\n",
    "for date in dates:\n",
    "    if isinstance(date.Traded_Volume,float): #Make sure it is a valid value\n",
    "        numDays = numDays + 1 #Add a day since there is valid data\n",
    "        totalTraded = totalTraded + date.Traded_Volume #Increase the total amount by the specific day's Traded Volume\n",
    "\n",
    "average = totalTraded/numDays #Calculate the average based on the total traded and the valid number of days\n",
    "\n",
    "#Print results\n",
    "print(\"Daily Trading Volume Average of 2017 = $\"+str(round(average,2)))"
   ]
  },
  {
   "cell_type": "code",
   "execution_count": 11,
   "metadata": {},
   "outputs": [
    {
     "name": "stdout",
     "output_type": "stream",
     "text": [
      "Median Trading Volume of 2017 = $134965.0 on date 2017-06-29\n"
     ]
    }
   ],
   "source": [
    "#7 What was the median trading volume during this year. (Note: you may need to implement your own function for calculating the median.)\n",
    "\n",
    "numDays = 0 #Number of days that had a valid value\n",
    "\n",
    "#Iterate through the data for the valid days of Traded Volume\n",
    "for date in dates:\n",
    "    if isinstance(date.Traded_Volume,float):\n",
    "        numDays = numDays + 1\n",
    "        \n",
    "#Set the index for the median of the valid number of days\n",
    "medianValue = numDays//2\n",
    "\n",
    "\n",
    "if numDays % 2 == 0 : #If there are an even number of days\n",
    "    median1 = dates[medianValue].Traded_Volume #Set the first median\n",
    "    median2 = dates[medianValue-1].Traded_Volume #Set the second median\n",
    "    median = (median1 + median2)/2 #Get the value between them that would end up as the median value\n",
    "else : #If there are an odd number of days\n",
    "    median = dates[medianValue].Traded_Volume #Get the median value for that specific day\n",
    "\n",
    "#Print results\n",
    "print(\"Median Trading Volume of 2017 = $\"+str(round(median,2)) + \" on date \" + dates[medianValue].Date)"
   ]
  }
 ],
 "metadata": {
  "interpreter": {
   "hash": "7635eb1b9d0fe97add78a7368b6b431c09bb8ad5c42e437d64abdd99821c31ae"
  },
  "kernelspec": {
   "display_name": "Python 3 (ipykernel)",
   "language": "python",
   "name": "python3"
  },
  "language_info": {
   "codemirror_mode": {
    "name": "ipython",
    "version": 3
   },
   "file_extension": ".py",
   "mimetype": "text/x-python",
   "name": "python",
   "nbconvert_exporter": "python",
   "pygments_lexer": "ipython3",
   "version": "3.9.13"
  }
 },
 "nbformat": 4,
 "nbformat_minor": 4
}
