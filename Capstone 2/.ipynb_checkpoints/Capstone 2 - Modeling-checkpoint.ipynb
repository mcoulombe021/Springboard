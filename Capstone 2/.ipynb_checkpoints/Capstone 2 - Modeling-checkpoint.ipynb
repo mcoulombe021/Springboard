{
 "cells": [
  {
   "cell_type": "markdown",
   "id": "6ba6bc1d",
   "metadata": {},
   "source": [
    "## Introduction<a id='Introduction'></a>"
   ]
  },
  {
   "cell_type": "markdown",
   "id": "1b6866d7",
   "metadata": {},
   "source": [
    "This notebook will go through different models, plot confusion matrix, and gather scores to see what the best model is for prediction. "
   ]
  },
  {
   "cell_type": "markdown",
   "id": "ac67b5bc",
   "metadata": {},
   "source": [
    "## Table of Contents<a id='Table_of_Contents'></a>\n",
    "* [Introduction](#Introduction)\n",
    "* [Table of Contents](#Table_of_Contents)\n",
    "* [Imports](#Imports)\n",
    "* [Functions](#Functions)\n",
    "* [View the Data](#View_Data)\n",
    "* [Baseline Model](#Baseline_Model)\n",
    "* [Modeling - Logistic Regression](#Modeling_LR)\n",
    "* [Modeling - Random Forest](#Modeling_RF)\n",
    "* [Conclusion](#Conclusion)"
   ]
  },
  {
   "cell_type": "markdown",
   "id": "7697ad52",
   "metadata": {},
   "source": [
    "## Imports<a id='Imports'></a>"
   ]
  },
  {
   "cell_type": "markdown",
   "id": "7dfe8eb5",
   "metadata": {},
   "source": [
    "Here we will import all the necessary libraries that we will need in this notebook. We will also import the X_train, X_test, y_train, and y_test data from the previous notebook. "
   ]
  },
  {
   "cell_type": "code",
   "execution_count": 1,
   "id": "c494499a",
   "metadata": {},
   "outputs": [],
   "source": [
    "#Import necessary libraries\n",
    "import pandas as pd\n",
    "import numpy as np\n",
    "import matplotlib.pyplot as plt\n",
    "import seaborn as sns\n",
    "import warnings\n",
    "from datetime import datetime\n",
    "from sklearn.model_selection import train_test_split, cross_val_score\n",
    "from sklearn.linear_model import LogisticRegression\n",
    "from sklearn.ensemble import RandomForestClassifier\n",
    "from sklearn.preprocessing import StandardScaler, MinMaxScaler\n",
    "from sklearn.metrics import accuracy_score, precision_score, recall_score, f1_score, balanced_accuracy_score\n",
    "import itertools\n",
    "from sklearn.metrics import confusion_matrix\n",
    "from sklearn.dummy import DummyRegressor\n",
    "\n",
    "#Don't display future warnings\n",
    "warnings.simplefilter(action='ignore', category=FutureWarning)\n",
    "sns.set()"
   ]
  },
  {
   "cell_type": "code",
   "execution_count": 2,
   "id": "59bdb816",
   "metadata": {},
   "outputs": [],
   "source": [
    "#Import cleaned data\n",
    "X_train = pd.read_csv('data/clean_data/X_train.csv', index_col = 0)\n",
    "X_test = pd.read_csv('data/clean_data/X_test.csv', index_col = 0)\n",
    "y_train = pd.read_csv('data/clean_data/y_train.csv', index_col = 0)\n",
    "y_test = pd.read_csv('data/clean_data/y_test.csv', index_col = 0)"
   ]
  },
  {
   "cell_type": "markdown",
   "id": "ab29ad5c",
   "metadata": {},
   "source": [
    "## Functions <a id='Functions'></a>"
   ]
  },
  {
   "cell_type": "markdown",
   "id": "5c4cc193",
   "metadata": {},
   "source": [
    "Here we are defining the functions we will need in this notebook: Plotting a confusion matrix and scoring the models. \n",
    "\n",
    "For the scoring function, here are the scores that are calculated along with their definitions:\n",
    "\n",
    "**Accuracy** - Calculates the overall correctness of a model using the ratio of correct predictions divided by the total number of predictions. \n",
    "\n",
    "    (true positive + true negative) / total predictions\n",
    "\n",
    "**Precision** - Calculates the percentage of true positives out of all the total positive values found by the model. Divides the true positive values by the sum of the true positive and false positive values. \n",
    "\n",
    "    true positive / (true positive + false positive)\n",
    "\n",
    "**Recall** - Calculates the percentage of true positives out of all the total positive values found in the actual data. Divides the true positive values by the sum of the true positive and false negative values. \n",
    "\n",
    "    true positive / (true positive + false negative)\n",
    "\n",
    "**F1** - Combines the Precision and Recall scores by calculating 2 times the product of precision and recall, then dividing by the sum of precision and recall. \n",
    "\n",
    "    2 * (precision * recall) / (precision + recall)\n",
    "\n",
    "**Balanced Accuracy** - Calculates the recall for each specific class individually and then averages it out. In this situation, there are only 2 classes, Common and Uncommon Diagnosis. \n",
    "\n",
    "    Recall(class 1) + Recall(class 2) ... + Recall(class n) / n"
   ]
  },
  {
   "cell_type": "code",
   "execution_count": 3,
   "id": "e3184a44",
   "metadata": {},
   "outputs": [],
   "source": [
    "def plot_confusion_matrix(yactual, y_pred):\n",
    "    '''This function plots a confusion matrix using actual data versus model predicted data. '''\n",
    "\n",
    "    # Create confusion matrix\n",
    "    cm = confusion_matrix(yactual, y_pred)\n",
    "    \n",
    "    # Calculate sum of all elements in the confusion matrix\n",
    "    total = np.sum(cm)\n",
    "\n",
    "    # Calculate percentages by dividing each element by the total sum\n",
    "    cm_percentages = cm / total\n",
    "\n",
    "    # Define color map\n",
    "    cmap = plt.cm.Blues\n",
    "\n",
    "    # Plot confusion matrix\n",
    "    plt.imshow(cm_percentages, interpolation='nearest', cmap=cmap)\n",
    "    plt.grid(False)\n",
    "    plt.title('Confusion Matrix')\n",
    "    plt.colorbar()\n",
    "\n",
    "    classes = ['uncommon', 'common']\n",
    "\n",
    "    tick_marks = np.arange(len(classes))\n",
    "    plt.xticks(tick_marks, classes)\n",
    "    plt.yticks(tick_marks, classes)\n",
    "\n",
    "    # Add labels to each cell\n",
    "    for i, j in itertools.product(range(cm_percentages.shape[0]), range(cm_percentages.shape[1])):\n",
    "        cell_value = cm_percentages[i, j]\n",
    "        cell_color = 'white' if cell_value < 0.3 else 'blue'  # Choose the background color based on the cell value\n",
    "        text_color = 'black' if cell_color == 'white' else 'white'  # Choose the text color based on the background color\n",
    "        plt.text(j, i, format(cell_value, '.2%'),\n",
    "                 horizontalalignment=\"center\",\n",
    "                 color=text_color,\n",
    "                 fontweight='bold', fontsize=12)  # Set the font weight and size\n",
    "\n",
    "    plt.xlabel('Predicted')\n",
    "    plt.ylabel('Actual')\n",
    "    plt.tight_layout()\n",
    "    plt.show()"
   ]
  },
  {
   "cell_type": "code",
   "execution_count": 4,
   "id": "6b343901",
   "metadata": {},
   "outputs": [],
   "source": [
    "def Scores(true, pred):\n",
    "    '''This function calculates and prints the accuracy, precision, recall, f1, and balanced accuracy.'''\n",
    "    \n",
    "    # Accuracy\n",
    "    accuracy = accuracy_score(true, pred)\n",
    "\n",
    "    # Precision\n",
    "    precision = precision_score(true, pred)\n",
    "\n",
    "    # Recall\n",
    "    recall = recall_score(true, pred)\n",
    "\n",
    "    # F1 Score\n",
    "    f1 = f1_score(true, pred)\n",
    "\n",
    "    # Balanced Accuracy\n",
    "    balanced_accuracy = balanced_accuracy_score(true, pred)\n",
    "\n",
    "    print('Accuracy: ' + str(round(accuracy, 3)))\n",
    "    print('Precision: ' + str(round(precision, 3)))\n",
    "    print('Recall: ' + str(round(recall, 3)))\n",
    "    print('F1: ' + str(round(f1, 3)))\n",
    "    print('Balanced Accuracy: ' + str(round(balanced_accuracy, 3)))"
   ]
  },
  {
   "cell_type": "markdown",
   "id": "c7628e71",
   "metadata": {},
   "source": [
    "## View the Data<a id='View_Data'></a>"
   ]
  },
  {
   "cell_type": "markdown",
   "id": "4228173f",
   "metadata": {},
   "source": [
    "Let's view the data to get a sense of what we are currently working with for our models. We'll look at X_train, X_test, y_train and y_test. "
   ]
  },
  {
   "cell_type": "code",
   "execution_count": 5,
   "id": "53d8f35a",
   "metadata": {},
   "outputs": [
    {
     "data": {
      "text/html": [
       "<div>\n",
       "<style scoped>\n",
       "    .dataframe tbody tr th:only-of-type {\n",
       "        vertical-align: middle;\n",
       "    }\n",
       "\n",
       "    .dataframe tbody tr th {\n",
       "        vertical-align: top;\n",
       "    }\n",
       "\n",
       "    .dataframe thead th {\n",
       "        text-align: right;\n",
       "    }\n",
       "</style>\n",
       "<table border=\"1\" class=\"dataframe\">\n",
       "  <thead>\n",
       "    <tr style=\"text-align: right;\">\n",
       "      <th></th>\n",
       "      <th>Age</th>\n",
       "      <th>PSU</th>\n",
       "      <th>Weight</th>\n",
       "      <th>Sex_M</th>\n",
       "      <th>BodyPart_Ankle</th>\n",
       "      <th>BodyPart_Arm, lower</th>\n",
       "      <th>BodyPart_Arm, upper</th>\n",
       "      <th>BodyPart_Ear</th>\n",
       "      <th>BodyPart_Elbow</th>\n",
       "      <th>BodyPart_Eyeball</th>\n",
       "      <th>...</th>\n",
       "      <th>Location_Street</th>\n",
       "      <th>Location_Unknown</th>\n",
       "      <th>Stratum_L</th>\n",
       "      <th>Stratum_M</th>\n",
       "      <th>Stratum_S</th>\n",
       "      <th>Stratum_V</th>\n",
       "      <th>Treatment_Day</th>\n",
       "      <th>Month_Day</th>\n",
       "      <th>Year_Day</th>\n",
       "      <th>day_of_week</th>\n",
       "    </tr>\n",
       "    <tr>\n",
       "      <th>CPSC_Case_Number</th>\n",
       "      <th></th>\n",
       "      <th></th>\n",
       "      <th></th>\n",
       "      <th></th>\n",
       "      <th></th>\n",
       "      <th></th>\n",
       "      <th></th>\n",
       "      <th></th>\n",
       "      <th></th>\n",
       "      <th></th>\n",
       "      <th></th>\n",
       "      <th></th>\n",
       "      <th></th>\n",
       "      <th></th>\n",
       "      <th></th>\n",
       "      <th></th>\n",
       "      <th></th>\n",
       "      <th></th>\n",
       "      <th></th>\n",
       "      <th></th>\n",
       "      <th></th>\n",
       "    </tr>\n",
       "  </thead>\n",
       "  <tbody>\n",
       "    <tr>\n",
       "      <th>140248355</th>\n",
       "      <td>-0.670665</td>\n",
       "      <td>0.829478</td>\n",
       "      <td>1.357959</td>\n",
       "      <td>0</td>\n",
       "      <td>0</td>\n",
       "      <td>0</td>\n",
       "      <td>1</td>\n",
       "      <td>0</td>\n",
       "      <td>0</td>\n",
       "      <td>0</td>\n",
       "      <td>...</td>\n",
       "      <td>0</td>\n",
       "      <td>0</td>\n",
       "      <td>0</td>\n",
       "      <td>0</td>\n",
       "      <td>1</td>\n",
       "      <td>0</td>\n",
       "      <td>25</td>\n",
       "      <td>7</td>\n",
       "      <td>2013</td>\n",
       "      <td>3</td>\n",
       "    </tr>\n",
       "    <tr>\n",
       "      <th>131033338</th>\n",
       "      <td>-0.889547</td>\n",
       "      <td>0.024048</td>\n",
       "      <td>1.292006</td>\n",
       "      <td>1</td>\n",
       "      <td>0</td>\n",
       "      <td>0</td>\n",
       "      <td>0</td>\n",
       "      <td>0</td>\n",
       "      <td>0</td>\n",
       "      <td>0</td>\n",
       "      <td>...</td>\n",
       "      <td>0</td>\n",
       "      <td>0</td>\n",
       "      <td>0</td>\n",
       "      <td>0</td>\n",
       "      <td>1</td>\n",
       "      <td>0</td>\n",
       "      <td>5</td>\n",
       "      <td>10</td>\n",
       "      <td>2013</td>\n",
       "      <td>5</td>\n",
       "    </tr>\n",
       "    <tr>\n",
       "      <th>141120816</th>\n",
       "      <td>-1.035468</td>\n",
       "      <td>0.059067</td>\n",
       "      <td>1.161436</td>\n",
       "      <td>1</td>\n",
       "      <td>0</td>\n",
       "      <td>0</td>\n",
       "      <td>0</td>\n",
       "      <td>0</td>\n",
       "      <td>0</td>\n",
       "      <td>0</td>\n",
       "      <td>...</td>\n",
       "      <td>0</td>\n",
       "      <td>0</td>\n",
       "      <td>1</td>\n",
       "      <td>0</td>\n",
       "      <td>0</td>\n",
       "      <td>0</td>\n",
       "      <td>19</td>\n",
       "      <td>10</td>\n",
       "      <td>2014</td>\n",
       "      <td>6</td>\n",
       "    </tr>\n",
       "    <tr>\n",
       "      <th>150717427</th>\n",
       "      <td>-0.451783</td>\n",
       "      <td>0.654385</td>\n",
       "      <td>-0.554388</td>\n",
       "      <td>1</td>\n",
       "      <td>0</td>\n",
       "      <td>1</td>\n",
       "      <td>0</td>\n",
       "      <td>0</td>\n",
       "      <td>0</td>\n",
       "      <td>0</td>\n",
       "      <td>...</td>\n",
       "      <td>0</td>\n",
       "      <td>0</td>\n",
       "      <td>0</td>\n",
       "      <td>0</td>\n",
       "      <td>0</td>\n",
       "      <td>1</td>\n",
       "      <td>5</td>\n",
       "      <td>7</td>\n",
       "      <td>2015</td>\n",
       "      <td>6</td>\n",
       "    </tr>\n",
       "    <tr>\n",
       "      <th>130910795</th>\n",
       "      <td>-0.743625</td>\n",
       "      <td>-0.396176</td>\n",
       "      <td>-0.820458</td>\n",
       "      <td>0</td>\n",
       "      <td>0</td>\n",
       "      <td>0</td>\n",
       "      <td>0</td>\n",
       "      <td>0</td>\n",
       "      <td>0</td>\n",
       "      <td>0</td>\n",
       "      <td>...</td>\n",
       "      <td>0</td>\n",
       "      <td>0</td>\n",
       "      <td>0</td>\n",
       "      <td>0</td>\n",
       "      <td>0</td>\n",
       "      <td>0</td>\n",
       "      <td>31</td>\n",
       "      <td>8</td>\n",
       "      <td>2013</td>\n",
       "      <td>5</td>\n",
       "    </tr>\n",
       "    <tr>\n",
       "      <th>...</th>\n",
       "      <td>...</td>\n",
       "      <td>...</td>\n",
       "      <td>...</td>\n",
       "      <td>...</td>\n",
       "      <td>...</td>\n",
       "      <td>...</td>\n",
       "      <td>...</td>\n",
       "      <td>...</td>\n",
       "      <td>...</td>\n",
       "      <td>...</td>\n",
       "      <td>...</td>\n",
       "      <td>...</td>\n",
       "      <td>...</td>\n",
       "      <td>...</td>\n",
       "      <td>...</td>\n",
       "      <td>...</td>\n",
       "      <td>...</td>\n",
       "      <td>...</td>\n",
       "      <td>...</td>\n",
       "      <td>...</td>\n",
       "      <td>...</td>\n",
       "    </tr>\n",
       "    <tr>\n",
       "      <th>150604252</th>\n",
       "      <td>-0.962507</td>\n",
       "      <td>-0.851419</td>\n",
       "      <td>-0.850115</td>\n",
       "      <td>0</td>\n",
       "      <td>0</td>\n",
       "      <td>0</td>\n",
       "      <td>0</td>\n",
       "      <td>0</td>\n",
       "      <td>0</td>\n",
       "      <td>0</td>\n",
       "      <td>...</td>\n",
       "      <td>0</td>\n",
       "      <td>1</td>\n",
       "      <td>0</td>\n",
       "      <td>0</td>\n",
       "      <td>0</td>\n",
       "      <td>0</td>\n",
       "      <td>24</td>\n",
       "      <td>5</td>\n",
       "      <td>2015</td>\n",
       "      <td>6</td>\n",
       "    </tr>\n",
       "    <tr>\n",
       "      <th>140443952</th>\n",
       "      <td>-0.889547</td>\n",
       "      <td>-0.361157</td>\n",
       "      <td>-0.848867</td>\n",
       "      <td>0</td>\n",
       "      <td>0</td>\n",
       "      <td>0</td>\n",
       "      <td>0</td>\n",
       "      <td>0</td>\n",
       "      <td>0</td>\n",
       "      <td>0</td>\n",
       "      <td>...</td>\n",
       "      <td>0</td>\n",
       "      <td>0</td>\n",
       "      <td>0</td>\n",
       "      <td>0</td>\n",
       "      <td>0</td>\n",
       "      <td>0</td>\n",
       "      <td>17</td>\n",
       "      <td>4</td>\n",
       "      <td>2014</td>\n",
       "      <td>3</td>\n",
       "    </tr>\n",
       "    <tr>\n",
       "      <th>140426349</th>\n",
       "      <td>2.831447</td>\n",
       "      <td>1.214684</td>\n",
       "      <td>-0.597344</td>\n",
       "      <td>0</td>\n",
       "      <td>0</td>\n",
       "      <td>0</td>\n",
       "      <td>0</td>\n",
       "      <td>0</td>\n",
       "      <td>0</td>\n",
       "      <td>0</td>\n",
       "      <td>...</td>\n",
       "      <td>0</td>\n",
       "      <td>0</td>\n",
       "      <td>0</td>\n",
       "      <td>0</td>\n",
       "      <td>0</td>\n",
       "      <td>1</td>\n",
       "      <td>8</td>\n",
       "      <td>4</td>\n",
       "      <td>2014</td>\n",
       "      <td>1</td>\n",
       "    </tr>\n",
       "    <tr>\n",
       "      <th>140125949</th>\n",
       "      <td>-0.305861</td>\n",
       "      <td>1.074609</td>\n",
       "      <td>1.326441</td>\n",
       "      <td>0</td>\n",
       "      <td>0</td>\n",
       "      <td>0</td>\n",
       "      <td>0</td>\n",
       "      <td>0</td>\n",
       "      <td>0</td>\n",
       "      <td>0</td>\n",
       "      <td>...</td>\n",
       "      <td>0</td>\n",
       "      <td>0</td>\n",
       "      <td>0</td>\n",
       "      <td>0</td>\n",
       "      <td>1</td>\n",
       "      <td>0</td>\n",
       "      <td>11</td>\n",
       "      <td>1</td>\n",
       "      <td>2014</td>\n",
       "      <td>5</td>\n",
       "    </tr>\n",
       "    <tr>\n",
       "      <th>170655992</th>\n",
       "      <td>-0.816586</td>\n",
       "      <td>-0.361157</td>\n",
       "      <td>-0.876984</td>\n",
       "      <td>1</td>\n",
       "      <td>0</td>\n",
       "      <td>0</td>\n",
       "      <td>1</td>\n",
       "      <td>0</td>\n",
       "      <td>0</td>\n",
       "      <td>0</td>\n",
       "      <td>...</td>\n",
       "      <td>0</td>\n",
       "      <td>1</td>\n",
       "      <td>0</td>\n",
       "      <td>0</td>\n",
       "      <td>0</td>\n",
       "      <td>0</td>\n",
       "      <td>12</td>\n",
       "      <td>6</td>\n",
       "      <td>2017</td>\n",
       "      <td>0</td>\n",
       "    </tr>\n",
       "  </tbody>\n",
       "</table>\n",
       "<p>5267 rows × 102 columns</p>\n",
       "</div>"
      ],
      "text/plain": [
       "                       Age       PSU    Weight  Sex_M  BodyPart_Ankle  \\\n",
       "CPSC_Case_Number                                                        \n",
       "140248355        -0.670665  0.829478  1.357959      0               0   \n",
       "131033338        -0.889547  0.024048  1.292006      1               0   \n",
       "141120816        -1.035468  0.059067  1.161436      1               0   \n",
       "150717427        -0.451783  0.654385 -0.554388      1               0   \n",
       "130910795        -0.743625 -0.396176 -0.820458      0               0   \n",
       "...                    ...       ...       ...    ...             ...   \n",
       "150604252        -0.962507 -0.851419 -0.850115      0               0   \n",
       "140443952        -0.889547 -0.361157 -0.848867      0               0   \n",
       "140426349         2.831447  1.214684 -0.597344      0               0   \n",
       "140125949        -0.305861  1.074609  1.326441      0               0   \n",
       "170655992        -0.816586 -0.361157 -0.876984      1               0   \n",
       "\n",
       "                  BodyPart_Arm, lower  BodyPart_Arm, upper  BodyPart_Ear  \\\n",
       "CPSC_Case_Number                                                           \n",
       "140248355                           0                    1             0   \n",
       "131033338                           0                    0             0   \n",
       "141120816                           0                    0             0   \n",
       "150717427                           1                    0             0   \n",
       "130910795                           0                    0             0   \n",
       "...                               ...                  ...           ...   \n",
       "150604252                           0                    0             0   \n",
       "140443952                           0                    0             0   \n",
       "140426349                           0                    0             0   \n",
       "140125949                           0                    0             0   \n",
       "170655992                           0                    1             0   \n",
       "\n",
       "                  BodyPart_Elbow  BodyPart_Eyeball  ...  Location_Street  \\\n",
       "CPSC_Case_Number                                    ...                    \n",
       "140248355                      0                 0  ...                0   \n",
       "131033338                      0                 0  ...                0   \n",
       "141120816                      0                 0  ...                0   \n",
       "150717427                      0                 0  ...                0   \n",
       "130910795                      0                 0  ...                0   \n",
       "...                          ...               ...  ...              ...   \n",
       "150604252                      0                 0  ...                0   \n",
       "140443952                      0                 0  ...                0   \n",
       "140426349                      0                 0  ...                0   \n",
       "140125949                      0                 0  ...                0   \n",
       "170655992                      0                 0  ...                0   \n",
       "\n",
       "                  Location_Unknown  Stratum_L  Stratum_M  Stratum_S  \\\n",
       "CPSC_Case_Number                                                      \n",
       "140248355                        0          0          0          1   \n",
       "131033338                        0          0          0          1   \n",
       "141120816                        0          1          0          0   \n",
       "150717427                        0          0          0          0   \n",
       "130910795                        0          0          0          0   \n",
       "...                            ...        ...        ...        ...   \n",
       "150604252                        1          0          0          0   \n",
       "140443952                        0          0          0          0   \n",
       "140426349                        0          0          0          0   \n",
       "140125949                        0          0          0          1   \n",
       "170655992                        1          0          0          0   \n",
       "\n",
       "                  Stratum_V  Treatment_Day  Month_Day  Year_Day  day_of_week  \n",
       "CPSC_Case_Number                                                              \n",
       "140248355                 0             25          7      2013            3  \n",
       "131033338                 0              5         10      2013            5  \n",
       "141120816                 0             19         10      2014            6  \n",
       "150717427                 1              5          7      2015            6  \n",
       "130910795                 0             31          8      2013            5  \n",
       "...                     ...            ...        ...       ...          ...  \n",
       "150604252                 0             24          5      2015            6  \n",
       "140443952                 0             17          4      2014            3  \n",
       "140426349                 1              8          4      2014            1  \n",
       "140125949                 0             11          1      2014            5  \n",
       "170655992                 0             12          6      2017            0  \n",
       "\n",
       "[5267 rows x 102 columns]"
      ]
     },
     "execution_count": 5,
     "metadata": {},
     "output_type": "execute_result"
    }
   ],
   "source": [
    "X_train"
   ]
  },
  {
   "cell_type": "code",
   "execution_count": 6,
   "id": "cec4c05e",
   "metadata": {},
   "outputs": [
    {
     "data": {
      "text/html": [
       "<div>\n",
       "<style scoped>\n",
       "    .dataframe tbody tr th:only-of-type {\n",
       "        vertical-align: middle;\n",
       "    }\n",
       "\n",
       "    .dataframe tbody tr th {\n",
       "        vertical-align: top;\n",
       "    }\n",
       "\n",
       "    .dataframe thead th {\n",
       "        text-align: right;\n",
       "    }\n",
       "</style>\n",
       "<table border=\"1\" class=\"dataframe\">\n",
       "  <thead>\n",
       "    <tr style=\"text-align: right;\">\n",
       "      <th></th>\n",
       "      <th>Age</th>\n",
       "      <th>PSU</th>\n",
       "      <th>Weight</th>\n",
       "      <th>Sex_M</th>\n",
       "      <th>BodyPart_Ankle</th>\n",
       "      <th>BodyPart_Arm, lower</th>\n",
       "      <th>BodyPart_Arm, upper</th>\n",
       "      <th>BodyPart_Ear</th>\n",
       "      <th>BodyPart_Elbow</th>\n",
       "      <th>BodyPart_Eyeball</th>\n",
       "      <th>...</th>\n",
       "      <th>Location_Street</th>\n",
       "      <th>Location_Unknown</th>\n",
       "      <th>Stratum_L</th>\n",
       "      <th>Stratum_M</th>\n",
       "      <th>Stratum_S</th>\n",
       "      <th>Stratum_V</th>\n",
       "      <th>Treatment_Day</th>\n",
       "      <th>Month_Day</th>\n",
       "      <th>Year_Day</th>\n",
       "      <th>day_of_week</th>\n",
       "    </tr>\n",
       "    <tr>\n",
       "      <th>CPSC_Case_Number</th>\n",
       "      <th></th>\n",
       "      <th></th>\n",
       "      <th></th>\n",
       "      <th></th>\n",
       "      <th></th>\n",
       "      <th></th>\n",
       "      <th></th>\n",
       "      <th></th>\n",
       "      <th></th>\n",
       "      <th></th>\n",
       "      <th></th>\n",
       "      <th></th>\n",
       "      <th></th>\n",
       "      <th></th>\n",
       "      <th></th>\n",
       "      <th></th>\n",
       "      <th></th>\n",
       "      <th></th>\n",
       "      <th></th>\n",
       "      <th></th>\n",
       "      <th></th>\n",
       "    </tr>\n",
       "  </thead>\n",
       "  <tbody>\n",
       "    <tr>\n",
       "      <th>170827787</th>\n",
       "      <td>-0.889547</td>\n",
       "      <td>1.669927</td>\n",
       "      <td>-0.876984</td>\n",
       "      <td>0</td>\n",
       "      <td>0</td>\n",
       "      <td>1</td>\n",
       "      <td>0</td>\n",
       "      <td>0</td>\n",
       "      <td>0</td>\n",
       "      <td>0</td>\n",
       "      <td>...</td>\n",
       "      <td>0</td>\n",
       "      <td>0</td>\n",
       "      <td>0</td>\n",
       "      <td>0</td>\n",
       "      <td>0</td>\n",
       "      <td>0</td>\n",
       "      <td>22</td>\n",
       "      <td>7</td>\n",
       "      <td>2017</td>\n",
       "      <td>5</td>\n",
       "    </tr>\n",
       "    <tr>\n",
       "      <th>160852455</th>\n",
       "      <td>-1.035468</td>\n",
       "      <td>-0.781382</td>\n",
       "      <td>-0.884344</td>\n",
       "      <td>1</td>\n",
       "      <td>0</td>\n",
       "      <td>0</td>\n",
       "      <td>0</td>\n",
       "      <td>0</td>\n",
       "      <td>0</td>\n",
       "      <td>0</td>\n",
       "      <td>...</td>\n",
       "      <td>0</td>\n",
       "      <td>0</td>\n",
       "      <td>0</td>\n",
       "      <td>0</td>\n",
       "      <td>0</td>\n",
       "      <td>0</td>\n",
       "      <td>14</td>\n",
       "      <td>8</td>\n",
       "      <td>2016</td>\n",
       "      <td>6</td>\n",
       "    </tr>\n",
       "    <tr>\n",
       "      <th>170157166</th>\n",
       "      <td>-0.816586</td>\n",
       "      <td>0.409254</td>\n",
       "      <td>1.533394</td>\n",
       "      <td>1</td>\n",
       "      <td>0</td>\n",
       "      <td>0</td>\n",
       "      <td>0</td>\n",
       "      <td>0</td>\n",
       "      <td>0</td>\n",
       "      <td>0</td>\n",
       "      <td>...</td>\n",
       "      <td>0</td>\n",
       "      <td>0</td>\n",
       "      <td>0</td>\n",
       "      <td>1</td>\n",
       "      <td>0</td>\n",
       "      <td>0</td>\n",
       "      <td>3</td>\n",
       "      <td>1</td>\n",
       "      <td>2017</td>\n",
       "      <td>1</td>\n",
       "    </tr>\n",
       "    <tr>\n",
       "      <th>141223560</th>\n",
       "      <td>-0.743625</td>\n",
       "      <td>0.514310</td>\n",
       "      <td>-0.557450</td>\n",
       "      <td>0</td>\n",
       "      <td>0</td>\n",
       "      <td>1</td>\n",
       "      <td>0</td>\n",
       "      <td>0</td>\n",
       "      <td>0</td>\n",
       "      <td>0</td>\n",
       "      <td>...</td>\n",
       "      <td>0</td>\n",
       "      <td>1</td>\n",
       "      <td>0</td>\n",
       "      <td>0</td>\n",
       "      <td>0</td>\n",
       "      <td>1</td>\n",
       "      <td>13</td>\n",
       "      <td>9</td>\n",
       "      <td>2014</td>\n",
       "      <td>5</td>\n",
       "    </tr>\n",
       "    <tr>\n",
       "      <th>130852418</th>\n",
       "      <td>3.852897</td>\n",
       "      <td>1.739965</td>\n",
       "      <td>1.357959</td>\n",
       "      <td>1</td>\n",
       "      <td>0</td>\n",
       "      <td>0</td>\n",
       "      <td>0</td>\n",
       "      <td>0</td>\n",
       "      <td>1</td>\n",
       "      <td>0</td>\n",
       "      <td>...</td>\n",
       "      <td>0</td>\n",
       "      <td>0</td>\n",
       "      <td>0</td>\n",
       "      <td>0</td>\n",
       "      <td>1</td>\n",
       "      <td>0</td>\n",
       "      <td>13</td>\n",
       "      <td>8</td>\n",
       "      <td>2013</td>\n",
       "      <td>1</td>\n",
       "    </tr>\n",
       "    <tr>\n",
       "      <th>...</th>\n",
       "      <td>...</td>\n",
       "      <td>...</td>\n",
       "      <td>...</td>\n",
       "      <td>...</td>\n",
       "      <td>...</td>\n",
       "      <td>...</td>\n",
       "      <td>...</td>\n",
       "      <td>...</td>\n",
       "      <td>...</td>\n",
       "      <td>...</td>\n",
       "      <td>...</td>\n",
       "      <td>...</td>\n",
       "      <td>...</td>\n",
       "      <td>...</td>\n",
       "      <td>...</td>\n",
       "      <td>...</td>\n",
       "      <td>...</td>\n",
       "      <td>...</td>\n",
       "      <td>...</td>\n",
       "      <td>...</td>\n",
       "      <td>...</td>\n",
       "    </tr>\n",
       "    <tr>\n",
       "      <th>161044669</th>\n",
       "      <td>3.342172</td>\n",
       "      <td>1.704946</td>\n",
       "      <td>-0.544457</td>\n",
       "      <td>1</td>\n",
       "      <td>0</td>\n",
       "      <td>0</td>\n",
       "      <td>0</td>\n",
       "      <td>0</td>\n",
       "      <td>0</td>\n",
       "      <td>0</td>\n",
       "      <td>...</td>\n",
       "      <td>0</td>\n",
       "      <td>0</td>\n",
       "      <td>0</td>\n",
       "      <td>0</td>\n",
       "      <td>0</td>\n",
       "      <td>1</td>\n",
       "      <td>11</td>\n",
       "      <td>10</td>\n",
       "      <td>2016</td>\n",
       "      <td>1</td>\n",
       "    </tr>\n",
       "    <tr>\n",
       "      <th>130902754</th>\n",
       "      <td>2.101841</td>\n",
       "      <td>-0.746363</td>\n",
       "      <td>-0.581395</td>\n",
       "      <td>0</td>\n",
       "      <td>0</td>\n",
       "      <td>1</td>\n",
       "      <td>0</td>\n",
       "      <td>0</td>\n",
       "      <td>0</td>\n",
       "      <td>0</td>\n",
       "      <td>...</td>\n",
       "      <td>0</td>\n",
       "      <td>0</td>\n",
       "      <td>0</td>\n",
       "      <td>0</td>\n",
       "      <td>0</td>\n",
       "      <td>1</td>\n",
       "      <td>24</td>\n",
       "      <td>8</td>\n",
       "      <td>2013</td>\n",
       "      <td>5</td>\n",
       "    </tr>\n",
       "    <tr>\n",
       "      <th>171106994</th>\n",
       "      <td>0.204863</td>\n",
       "      <td>-0.676326</td>\n",
       "      <td>-0.518797</td>\n",
       "      <td>1</td>\n",
       "      <td>0</td>\n",
       "      <td>0</td>\n",
       "      <td>0</td>\n",
       "      <td>0</td>\n",
       "      <td>1</td>\n",
       "      <td>0</td>\n",
       "      <td>...</td>\n",
       "      <td>0</td>\n",
       "      <td>0</td>\n",
       "      <td>0</td>\n",
       "      <td>0</td>\n",
       "      <td>0</td>\n",
       "      <td>1</td>\n",
       "      <td>29</td>\n",
       "      <td>10</td>\n",
       "      <td>2017</td>\n",
       "      <td>6</td>\n",
       "    </tr>\n",
       "    <tr>\n",
       "      <th>160504952</th>\n",
       "      <td>-0.014019</td>\n",
       "      <td>0.864497</td>\n",
       "      <td>-0.587346</td>\n",
       "      <td>1</td>\n",
       "      <td>0</td>\n",
       "      <td>0</td>\n",
       "      <td>0</td>\n",
       "      <td>0</td>\n",
       "      <td>0</td>\n",
       "      <td>0</td>\n",
       "      <td>...</td>\n",
       "      <td>0</td>\n",
       "      <td>0</td>\n",
       "      <td>0</td>\n",
       "      <td>0</td>\n",
       "      <td>0</td>\n",
       "      <td>1</td>\n",
       "      <td>18</td>\n",
       "      <td>4</td>\n",
       "      <td>2016</td>\n",
       "      <td>0</td>\n",
       "    </tr>\n",
       "    <tr>\n",
       "      <th>160205773</th>\n",
       "      <td>-0.962507</td>\n",
       "      <td>1.634909</td>\n",
       "      <td>1.116466</td>\n",
       "      <td>1</td>\n",
       "      <td>0</td>\n",
       "      <td>0</td>\n",
       "      <td>0</td>\n",
       "      <td>0</td>\n",
       "      <td>0</td>\n",
       "      <td>0</td>\n",
       "      <td>...</td>\n",
       "      <td>0</td>\n",
       "      <td>0</td>\n",
       "      <td>1</td>\n",
       "      <td>0</td>\n",
       "      <td>0</td>\n",
       "      <td>0</td>\n",
       "      <td>31</td>\n",
       "      <td>1</td>\n",
       "      <td>2016</td>\n",
       "      <td>6</td>\n",
       "    </tr>\n",
       "  </tbody>\n",
       "</table>\n",
       "<p>1317 rows × 102 columns</p>\n",
       "</div>"
      ],
      "text/plain": [
       "                       Age       PSU    Weight  Sex_M  BodyPart_Ankle  \\\n",
       "CPSC_Case_Number                                                        \n",
       "170827787        -0.889547  1.669927 -0.876984      0               0   \n",
       "160852455        -1.035468 -0.781382 -0.884344      1               0   \n",
       "170157166        -0.816586  0.409254  1.533394      1               0   \n",
       "141223560        -0.743625  0.514310 -0.557450      0               0   \n",
       "130852418         3.852897  1.739965  1.357959      1               0   \n",
       "...                    ...       ...       ...    ...             ...   \n",
       "161044669         3.342172  1.704946 -0.544457      1               0   \n",
       "130902754         2.101841 -0.746363 -0.581395      0               0   \n",
       "171106994         0.204863 -0.676326 -0.518797      1               0   \n",
       "160504952        -0.014019  0.864497 -0.587346      1               0   \n",
       "160205773        -0.962507  1.634909  1.116466      1               0   \n",
       "\n",
       "                  BodyPart_Arm, lower  BodyPart_Arm, upper  BodyPart_Ear  \\\n",
       "CPSC_Case_Number                                                           \n",
       "170827787                           1                    0             0   \n",
       "160852455                           0                    0             0   \n",
       "170157166                           0                    0             0   \n",
       "141223560                           1                    0             0   \n",
       "130852418                           0                    0             0   \n",
       "...                               ...                  ...           ...   \n",
       "161044669                           0                    0             0   \n",
       "130902754                           1                    0             0   \n",
       "171106994                           0                    0             0   \n",
       "160504952                           0                    0             0   \n",
       "160205773                           0                    0             0   \n",
       "\n",
       "                  BodyPart_Elbow  BodyPart_Eyeball  ...  Location_Street  \\\n",
       "CPSC_Case_Number                                    ...                    \n",
       "170827787                      0                 0  ...                0   \n",
       "160852455                      0                 0  ...                0   \n",
       "170157166                      0                 0  ...                0   \n",
       "141223560                      0                 0  ...                0   \n",
       "130852418                      1                 0  ...                0   \n",
       "...                          ...               ...  ...              ...   \n",
       "161044669                      0                 0  ...                0   \n",
       "130902754                      0                 0  ...                0   \n",
       "171106994                      1                 0  ...                0   \n",
       "160504952                      0                 0  ...                0   \n",
       "160205773                      0                 0  ...                0   \n",
       "\n",
       "                  Location_Unknown  Stratum_L  Stratum_M  Stratum_S  \\\n",
       "CPSC_Case_Number                                                      \n",
       "170827787                        0          0          0          0   \n",
       "160852455                        0          0          0          0   \n",
       "170157166                        0          0          1          0   \n",
       "141223560                        1          0          0          0   \n",
       "130852418                        0          0          0          1   \n",
       "...                            ...        ...        ...        ...   \n",
       "161044669                        0          0          0          0   \n",
       "130902754                        0          0          0          0   \n",
       "171106994                        0          0          0          0   \n",
       "160504952                        0          0          0          0   \n",
       "160205773                        0          1          0          0   \n",
       "\n",
       "                  Stratum_V  Treatment_Day  Month_Day  Year_Day  day_of_week  \n",
       "CPSC_Case_Number                                                              \n",
       "170827787                 0             22          7      2017            5  \n",
       "160852455                 0             14          8      2016            6  \n",
       "170157166                 0              3          1      2017            1  \n",
       "141223560                 1             13          9      2014            5  \n",
       "130852418                 0             13          8      2013            1  \n",
       "...                     ...            ...        ...       ...          ...  \n",
       "161044669                 1             11         10      2016            1  \n",
       "130902754                 1             24          8      2013            5  \n",
       "171106994                 1             29         10      2017            6  \n",
       "160504952                 1             18          4      2016            0  \n",
       "160205773                 0             31          1      2016            6  \n",
       "\n",
       "[1317 rows x 102 columns]"
      ]
     },
     "execution_count": 6,
     "metadata": {},
     "output_type": "execute_result"
    }
   ],
   "source": [
    "X_test"
   ]
  },
  {
   "cell_type": "code",
   "execution_count": 7,
   "id": "9ff3b974",
   "metadata": {},
   "outputs": [
    {
     "data": {
      "text/html": [
       "<div>\n",
       "<style scoped>\n",
       "    .dataframe tbody tr th:only-of-type {\n",
       "        vertical-align: middle;\n",
       "    }\n",
       "\n",
       "    .dataframe tbody tr th {\n",
       "        vertical-align: top;\n",
       "    }\n",
       "\n",
       "    .dataframe thead th {\n",
       "        text-align: right;\n",
       "    }\n",
       "</style>\n",
       "<table border=\"1\" class=\"dataframe\">\n",
       "  <thead>\n",
       "    <tr style=\"text-align: right;\">\n",
       "      <th></th>\n",
       "      <th>common</th>\n",
       "    </tr>\n",
       "    <tr>\n",
       "      <th>CPSC_Case_Number</th>\n",
       "      <th></th>\n",
       "    </tr>\n",
       "  </thead>\n",
       "  <tbody>\n",
       "    <tr>\n",
       "      <th>140248355</th>\n",
       "      <td>1</td>\n",
       "    </tr>\n",
       "    <tr>\n",
       "      <th>131033338</th>\n",
       "      <td>1</td>\n",
       "    </tr>\n",
       "    <tr>\n",
       "      <th>141120816</th>\n",
       "      <td>0</td>\n",
       "    </tr>\n",
       "    <tr>\n",
       "      <th>150717427</th>\n",
       "      <td>1</td>\n",
       "    </tr>\n",
       "    <tr>\n",
       "      <th>130910795</th>\n",
       "      <td>1</td>\n",
       "    </tr>\n",
       "    <tr>\n",
       "      <th>...</th>\n",
       "      <td>...</td>\n",
       "    </tr>\n",
       "    <tr>\n",
       "      <th>150604252</th>\n",
       "      <td>1</td>\n",
       "    </tr>\n",
       "    <tr>\n",
       "      <th>140443952</th>\n",
       "      <td>1</td>\n",
       "    </tr>\n",
       "    <tr>\n",
       "      <th>140426349</th>\n",
       "      <td>1</td>\n",
       "    </tr>\n",
       "    <tr>\n",
       "      <th>140125949</th>\n",
       "      <td>0</td>\n",
       "    </tr>\n",
       "    <tr>\n",
       "      <th>170655992</th>\n",
       "      <td>1</td>\n",
       "    </tr>\n",
       "  </tbody>\n",
       "</table>\n",
       "<p>5267 rows × 1 columns</p>\n",
       "</div>"
      ],
      "text/plain": [
       "                  common\n",
       "CPSC_Case_Number        \n",
       "140248355              1\n",
       "131033338              1\n",
       "141120816              0\n",
       "150717427              1\n",
       "130910795              1\n",
       "...                  ...\n",
       "150604252              1\n",
       "140443952              1\n",
       "140426349              1\n",
       "140125949              0\n",
       "170655992              1\n",
       "\n",
       "[5267 rows x 1 columns]"
      ]
     },
     "execution_count": 7,
     "metadata": {},
     "output_type": "execute_result"
    }
   ],
   "source": [
    "y_train"
   ]
  },
  {
   "cell_type": "code",
   "execution_count": 8,
   "id": "689b8228",
   "metadata": {},
   "outputs": [
    {
     "data": {
      "text/html": [
       "<div>\n",
       "<style scoped>\n",
       "    .dataframe tbody tr th:only-of-type {\n",
       "        vertical-align: middle;\n",
       "    }\n",
       "\n",
       "    .dataframe tbody tr th {\n",
       "        vertical-align: top;\n",
       "    }\n",
       "\n",
       "    .dataframe thead th {\n",
       "        text-align: right;\n",
       "    }\n",
       "</style>\n",
       "<table border=\"1\" class=\"dataframe\">\n",
       "  <thead>\n",
       "    <tr style=\"text-align: right;\">\n",
       "      <th></th>\n",
       "      <th>common</th>\n",
       "    </tr>\n",
       "    <tr>\n",
       "      <th>CPSC_Case_Number</th>\n",
       "      <th></th>\n",
       "    </tr>\n",
       "  </thead>\n",
       "  <tbody>\n",
       "    <tr>\n",
       "      <th>170827787</th>\n",
       "      <td>1</td>\n",
       "    </tr>\n",
       "    <tr>\n",
       "      <th>160852455</th>\n",
       "      <td>0</td>\n",
       "    </tr>\n",
       "    <tr>\n",
       "      <th>170157166</th>\n",
       "      <td>0</td>\n",
       "    </tr>\n",
       "    <tr>\n",
       "      <th>141223560</th>\n",
       "      <td>1</td>\n",
       "    </tr>\n",
       "    <tr>\n",
       "      <th>130852418</th>\n",
       "      <td>0</td>\n",
       "    </tr>\n",
       "    <tr>\n",
       "      <th>...</th>\n",
       "      <td>...</td>\n",
       "    </tr>\n",
       "    <tr>\n",
       "      <th>161044669</th>\n",
       "      <td>1</td>\n",
       "    </tr>\n",
       "    <tr>\n",
       "      <th>130902754</th>\n",
       "      <td>0</td>\n",
       "    </tr>\n",
       "    <tr>\n",
       "      <th>171106994</th>\n",
       "      <td>1</td>\n",
       "    </tr>\n",
       "    <tr>\n",
       "      <th>160504952</th>\n",
       "      <td>0</td>\n",
       "    </tr>\n",
       "    <tr>\n",
       "      <th>160205773</th>\n",
       "      <td>0</td>\n",
       "    </tr>\n",
       "  </tbody>\n",
       "</table>\n",
       "<p>1317 rows × 1 columns</p>\n",
       "</div>"
      ],
      "text/plain": [
       "                  common\n",
       "CPSC_Case_Number        \n",
       "170827787              1\n",
       "160852455              0\n",
       "170157166              0\n",
       "141223560              1\n",
       "130852418              0\n",
       "...                  ...\n",
       "161044669              1\n",
       "130902754              0\n",
       "171106994              1\n",
       "160504952              0\n",
       "160205773              0\n",
       "\n",
       "[1317 rows x 1 columns]"
      ]
     },
     "execution_count": 8,
     "metadata": {},
     "output_type": "execute_result"
    }
   ],
   "source": [
    "y_test"
   ]
  },
  {
   "cell_type": "markdown",
   "id": "e4c660de",
   "metadata": {},
   "source": [
    "We see that X_train and X_test are all the values we are using for our models and then y_train and y_test are the actual values for the Diagnosis that we can compare our results to with for whether we got our predictions correct or not. Let's make sure everything is a numerical value as well. "
   ]
  },
  {
   "cell_type": "code",
   "execution_count": 9,
   "id": "daec8f89",
   "metadata": {
    "scrolled": false
   },
   "outputs": [
    {
     "data": {
      "text/plain": [
       "Age               float64\n",
       "PSU               float64\n",
       "Weight            float64\n",
       "Sex_M               int64\n",
       "BodyPart_Ankle      int64\n",
       "                   ...   \n",
       "Stratum_V           int64\n",
       "Treatment_Day       int64\n",
       "Month_Day           int64\n",
       "Year_Day            int64\n",
       "day_of_week         int64\n",
       "Length: 102, dtype: object"
      ]
     },
     "execution_count": 9,
     "metadata": {},
     "output_type": "execute_result"
    }
   ],
   "source": [
    "X_train.dtypes"
   ]
  },
  {
   "cell_type": "code",
   "execution_count": 10,
   "id": "6257805d",
   "metadata": {},
   "outputs": [
    {
     "data": {
      "text/plain": [
       "Age               float64\n",
       "PSU               float64\n",
       "Weight            float64\n",
       "Sex_M               int64\n",
       "BodyPart_Ankle      int64\n",
       "                   ...   \n",
       "Stratum_V           int64\n",
       "Treatment_Day       int64\n",
       "Month_Day           int64\n",
       "Year_Day            int64\n",
       "day_of_week         int64\n",
       "Length: 102, dtype: object"
      ]
     },
     "execution_count": 10,
     "metadata": {},
     "output_type": "execute_result"
    }
   ],
   "source": [
    "X_test.dtypes"
   ]
  },
  {
   "cell_type": "code",
   "execution_count": 11,
   "id": "bf318543",
   "metadata": {},
   "outputs": [
    {
     "data": {
      "text/plain": [
       "common    int64\n",
       "dtype: object"
      ]
     },
     "execution_count": 11,
     "metadata": {},
     "output_type": "execute_result"
    }
   ],
   "source": [
    "y_train.dtypes"
   ]
  },
  {
   "cell_type": "code",
   "execution_count": 12,
   "id": "d65300f9",
   "metadata": {},
   "outputs": [
    {
     "data": {
      "text/plain": [
       "common    int64\n",
       "dtype: object"
      ]
     },
     "execution_count": 12,
     "metadata": {},
     "output_type": "execute_result"
    }
   ],
   "source": [
    "y_test.dtypes"
   ]
  },
  {
   "cell_type": "markdown",
   "id": "af7286e4",
   "metadata": {},
   "source": [
    "It appears that everything is either an int or a float so everything should be ready to go for our models. "
   ]
  },
  {
   "cell_type": "markdown",
   "id": "0611aa06",
   "metadata": {},
   "source": [
    "## Baseline Model<a id='Baseline_Model'></a>"
   ]
  },
  {
   "cell_type": "markdown",
   "id": "6c7d1203",
   "metadata": {},
   "source": [
    "Before we create a model, let's get a baseline down of what we would expect out of each Diagnosis by taking the mean value of the training set and get the percentage of what each Diagnosis would be. "
   ]
  },
  {
   "cell_type": "code",
   "execution_count": 13,
   "id": "440186c2",
   "metadata": {},
   "outputs": [
    {
     "data": {
      "text/html": [
       "<div>\n",
       "<style scoped>\n",
       "    .dataframe tbody tr th:only-of-type {\n",
       "        vertical-align: middle;\n",
       "    }\n",
       "\n",
       "    .dataframe tbody tr th {\n",
       "        vertical-align: top;\n",
       "    }\n",
       "\n",
       "    .dataframe thead th {\n",
       "        text-align: right;\n",
       "    }\n",
       "</style>\n",
       "<table border=\"1\" class=\"dataframe\">\n",
       "  <thead>\n",
       "    <tr style=\"text-align: right;\">\n",
       "      <th></th>\n",
       "      <th>Percentage</th>\n",
       "    </tr>\n",
       "  </thead>\n",
       "  <tbody>\n",
       "    <tr>\n",
       "      <th>common</th>\n",
       "      <td>0.562559</td>\n",
       "    </tr>\n",
       "  </tbody>\n",
       "</table>\n",
       "</div>"
      ],
      "text/plain": [
       "        Percentage\n",
       "common    0.562559"
      ]
     },
     "execution_count": 13,
     "metadata": {},
     "output_type": "execute_result"
    }
   ],
   "source": [
    "train_percent = np.mean(y_train)\n",
    "train_percent_df = pd.DataFrame(train_percent,columns=['Percentage'])\n",
    "train_percent_df"
   ]
  },
  {
   "cell_type": "markdown",
   "id": "9703ea5e",
   "metadata": {},
   "source": [
    "We see that the \"Common\" diagnosis makes up on average 56.26% of the cases in the training set. This shows the breakdown of what we would expect out of each Diagnosis given the training data. We can then predict this value for everything in the test set to get a baseline for what just guessing the most common diagnosis would be. "
   ]
  },
  {
   "cell_type": "code",
   "execution_count": 14,
   "id": "5deb8ece",
   "metadata": {},
   "outputs": [],
   "source": [
    "#Saving the column values so we can identify each column later on. \n",
    "diagnosis = y_train.columns \n",
    "\n",
    "#Get the values ready for the regressor\n",
    "y_train = np.ravel(y_train)\n",
    "y_test_index = y_test.index\n",
    "y_test = np.ravel(y_test)"
   ]
  },
  {
   "cell_type": "markdown",
   "id": "828f09fa",
   "metadata": {},
   "source": [
    "Now we can setup a DummyRegressor using the mean and fit it with X_train and y_train. We can tehn predict using the train and test data to see how our results compare. "
   ]
  },
  {
   "cell_type": "code",
   "execution_count": 15,
   "id": "5cc9529d",
   "metadata": {},
   "outputs": [],
   "source": [
    "dumb_reg = DummyRegressor(strategy='mean')\n",
    "dumb_reg.fit(X_train, y_train)\n",
    "dumb_pred_train = dumb_reg.predict(X_train)\n",
    "dumb_pred_test = dumb_reg.predict(X_test)"
   ]
  },
  {
   "cell_type": "code",
   "execution_count": 16,
   "id": "6a4afa18",
   "metadata": {},
   "outputs": [],
   "source": [
    "dumb_pred_train = np.ceil(dumb_pred_train).astype(int)\n",
    "dumb_pred_test = np.ceil(dumb_pred_test).astype(int)"
   ]
  },
  {
   "cell_type": "markdown",
   "id": "fa444bfc",
   "metadata": {},
   "source": [
    "Now let's plot the confusion matrix for the training data predictions. "
   ]
  },
  {
   "cell_type": "code",
   "execution_count": 17,
   "id": "4fb18ee8",
   "metadata": {},
   "outputs": [
    {
     "data": {
      "image/png": "[encoded data removed]",
      "text/plain": [
       "<Figure size 640x480 with 2 Axes>"
      ]
     },
     "metadata": {},
     "output_type": "display_data"
    }
   ],
   "source": [
    "plot_confusion_matrix(y_train, dumb_pred_train)"
   ]
  },
  {
   "cell_type": "markdown",
   "id": "0e665dbd",
   "metadata": {},
   "source": [
    "We see that 56.26% of the data was predicted corrected as the common diagnosis which matches what the mean of the train data was for the common diagnosis type. Let's see how it scored."
   ]
  },
  {
   "cell_type": "code",
   "execution_count": 18,
   "id": "ef707e19",
   "metadata": {},
   "outputs": [
    {
     "name": "stdout",
     "output_type": "stream",
     "text": [
      "Accuracy: 0.563\n",
      "Precision: 0.563\n",
      "Recall: 1.0\n",
      "F1: 0.72\n",
      "Balanced Accuracy: 0.5\n"
     ]
    }
   ],
   "source": [
    "Scores(y_train,dumb_pred_train)"
   ]
  },
  {
   "cell_type": "markdown",
   "id": "c92c5872",
   "metadata": {},
   "source": [
    "Since there were no False negatives (predicted uncommon but it was actually a common), we get a recall of 100%. However, the accuracy, precision, and Balanced accuracy were all low in the 50%s. The F1 score is inflated by the high Recall score which is why that appears as  high outlier. Let's now look at the test data with the dummy regressor. "
   ]
  },
  {
   "cell_type": "code",
   "execution_count": 19,
   "id": "fced6eca",
   "metadata": {},
   "outputs": [
    {
     "data": {
      "image/png": "[encoded data removed]",
      "text/plain": [
       "<Figure size 640x480 with 2 Axes>"
      ]
     },
     "metadata": {},
     "output_type": "display_data"
    }
   ],
   "source": [
    "plot_confusion_matrix(y_test, dumb_pred_test)"
   ]
  },
  {
   "cell_type": "markdown",
   "id": "53113c68",
   "metadata": {},
   "source": [
    "We see that with the unseen test data, it falls pretty close to the actual mean still, with a total correctness of 56.04% for predicting common values. This sets the bar for the minimum a model can predict to make it more useful than just guessing the mean. "
   ]
  },
  {
   "cell_type": "code",
   "execution_count": 20,
   "id": "75f12810",
   "metadata": {},
   "outputs": [
    {
     "name": "stdout",
     "output_type": "stream",
     "text": [
      "Accuracy: 0.56\n",
      "Precision: 0.56\n",
      "Recall: 1.0\n",
      "F1: 0.718\n",
      "Balanced Accuracy: 0.5\n"
     ]
    }
   ],
   "source": [
    "Scores(y_test,dumb_pred_test)"
   ]
  },
  {
   "cell_type": "markdown",
   "id": "8f5fc156",
   "metadata": {},
   "source": [
    "For the scoring, we see similar results to the train data. A perfect Recall due to no False negatives, as well as an inflated F1 score because of the high Recall. The rest of the scores for Accuracy, Precision, and Balanced Accuracy were in the 50%s so that is our baseline when comparing the models. "
   ]
  },
  {
   "cell_type": "markdown",
   "id": "dc8764b7",
   "metadata": {},
   "source": [
    "## Modeling - Logistic Regression<a id='Modeling_LR'></a>"
   ]
  },
  {
   "cell_type": "markdown",
   "id": "d30d0bdc",
   "metadata": {},
   "source": [
    "Now let's test a model. We will start with Logistic Regression and can then compare it to the baseline model to see how it performs. We will fit on the train data, then predict on the train and test data separtely to see how the model performs. "
   ]
  },
  {
   "cell_type": "code",
   "execution_count": 21,
   "id": "0e8cf9f3",
   "metadata": {},
   "outputs": [],
   "source": [
    "logreg = LogisticRegression(max_iter=10000)\n",
    "logreg.fit(X_train,y_train)\n",
    "\n",
    "y_pred_train = logreg.predict(X_train)\n",
    "y_pred_test = logreg.predict(X_test)\n",
    "\n",
    "#Way to view the results of the predictions via case number\n",
    "#(pd.DataFrame(y_pred_test, columns= diagnosis, index=y_test_index)) "
   ]
  },
  {
   "cell_type": "markdown",
   "id": "7c8a67fd",
   "metadata": {},
   "source": [
    "Now that we have our predicted values, let's plot a confusion matrix with the training data to see how the model did with it. "
   ]
  },
  {
   "cell_type": "code",
   "execution_count": 22,
   "id": "b643e0e8",
   "metadata": {},
   "outputs": [
    {
     "data": {
      "image/png": "[encoded data removed]",
      "text/plain": [
       "<Figure size 640x480 with 2 Axes>"
      ]
     },
     "metadata": {},
     "output_type": "display_data"
    }
   ],
   "source": [
    "plot_confusion_matrix(y_train, y_pred_train)"
   ]
  },
  {
   "cell_type": "markdown",
   "id": "69a7bd43",
   "metadata": {},
   "source": [
    "The Logistic Regresion model correctly predicted  a total of 75.68% of the train data when it was fed back into it (50.73% of the data is a common diagnosis and 24.95% is an uncommon diagnosis). 24.32% was incorrectly predicted by either labelling a common diagnosis as uncommon (5.52% False Negative rate) or an uncommon diganosis as common (18.8% False Positive rate). Let's check out the scores now. "
   ]
  },
  {
   "cell_type": "code",
   "execution_count": 23,
   "id": "7f2dc890",
   "metadata": {},
   "outputs": [
    {
     "name": "stdout",
     "output_type": "stream",
     "text": [
      "Accuracy: 0.757\n",
      "Precision: 0.73\n",
      "Recall: 0.902\n",
      "F1: 0.807\n",
      "Balanced Accuracy: 0.736\n"
     ]
    }
   ],
   "source": [
    "Scores(y_train,y_pred_train)"
   ]
  },
  {
   "cell_type": "markdown",
   "id": "0072ab8c",
   "metadata": {},
   "source": [
    "We see a 75.7% accuracy score based on the total number of predictions that were right. We also see a high recall of 90% as it's only considering the False Negative scores against it. Overall, this model was significantly more accurate the just guessing the mean while maintaining a relatively high Recall. However, this was with the training data that we fed into the model, so now let's see how the model did with the unseen test data. "
   ]
  },
  {
   "cell_type": "code",
   "execution_count": 24,
   "id": "226ea0d3",
   "metadata": {},
   "outputs": [
    {
     "data": {
      "image/png": "[encoded data removed]",
      "text/plain": [
       "<Figure size 640x480 with 2 Axes>"
      ]
     },
     "metadata": {},
     "output_type": "display_data"
    }
   ],
   "source": [
    "plot_confusion_matrix(y_test, y_pred_test)"
   ]
  },
  {
   "cell_type": "markdown",
   "id": "f6de2eb6",
   "metadata": {},
   "source": [
    "We see similar results to the training data, but slightly lower percentages for the correctness of the predictions. We see a total of 74.9% of diagnosis correct, with the remaining 25.1% incorrect. Just under 50% of those correct guesses were for the common diagnosis. We also see a relatively low amount of uncommon predicted diagnosis which were actually common (6.23% False Negative rate). Let's check out the scores now. "
   ]
  },
  {
   "cell_type": "code",
   "execution_count": 25,
   "id": "199c9020",
   "metadata": {},
   "outputs": [
    {
     "name": "stdout",
     "output_type": "stream",
     "text": [
      "Accuracy: 0.749\n",
      "Precision: 0.725\n",
      "Recall: 0.889\n",
      "F1: 0.799\n",
      "Balanced Accuracy: 0.729\n"
     ]
    }
   ],
   "source": [
    "Scores(y_test,y_pred_test)"
   ]
  },
  {
   "cell_type": "markdown",
   "id": "9ef49535",
   "metadata": {},
   "source": [
    "With the accuracy, we see 74.9% of the guesses were correct, with similar Precision and Balanced Accuracy scores. The Recall is still higher with the relatively small 6.23% False Negative rate, so we get a solid 88.9% Recall score which also gives us a higher F1 score. Over, this model performed much better than just guessing the mean, so at the moment, this is our best model to use for predictions of a common diagnosis. "
   ]
  },
  {
   "cell_type": "markdown",
   "id": "2a9b1000",
   "metadata": {},
   "source": [
    "## Modeling - Random Forest<a id='Modeling_RF'></a>"
   ]
  },
  {
   "cell_type": "markdown",
   "id": "59f1bc3b",
   "metadata": {},
   "source": [
    "Now let's create a Random Forest model. As before, we will predict on both the train and test data so we can compare the results. "
   ]
  },
  {
   "cell_type": "code",
   "execution_count": 26,
   "id": "ef0d2300",
   "metadata": {},
   "outputs": [],
   "source": [
    "#Random Forest\n",
    "rf_classifier = RandomForestClassifier(n_estimators=100, random_state=42)\n",
    "\n",
    "rf_classifier.fit(X_train, y_train)\n",
    "\n",
    "y_pred_train = rf_classifier.predict(X_train)\n",
    "y_pred_test = rf_classifier.predict(X_test)"
   ]
  },
  {
   "cell_type": "markdown",
   "id": "022754a8",
   "metadata": {},
   "source": [
    "We now have our models created, so let's take a look at the confusion matrix. "
   ]
  },
  {
   "cell_type": "code",
   "execution_count": 27,
   "id": "cf51b010",
   "metadata": {},
   "outputs": [
    {
     "data": {
      "image/png": "[encoded data removed]",
      "text/plain": [
       "<Figure size 640x480 with 2 Axes>"
      ]
     },
     "metadata": {},
     "output_type": "display_data"
    }
   ],
   "source": [
    "#Train Confusion Matrix\n",
    "plot_confusion_matrix(y_train, y_pred_train)"
   ]
  },
  {
   "cell_type": "markdown",
   "id": "edcfafcb",
   "metadata": {},
   "source": [
    "With the confusion matrix, we see that we fit the data exactly as 56.26% are common and 43.74% are uncommon types which was exactly what the data had. This makes sense as this is the train data so the system created a model to be able to sort everything with 100% accurately with the Random Forest. Let's take a look at the Scores now. "
   ]
  },
  {
   "cell_type": "code",
   "execution_count": 28,
   "id": "18c71099",
   "metadata": {},
   "outputs": [
    {
     "name": "stdout",
     "output_type": "stream",
     "text": [
      "Accuracy: 1.0\n",
      "Precision: 1.0\n",
      "Recall: 1.0\n",
      "F1: 1.0\n",
      "Balanced Accuracy: 1.0\n"
     ]
    }
   ],
   "source": [
    "Scores(y_train,y_pred_train)"
   ]
  },
  {
   "cell_type": "markdown",
   "id": "eee577b7",
   "metadata": {},
   "source": [
    "We see that since we predicted everything correctly, we have 100% scores on every metric. This is expected though because this is the train data with a Random Forest model. The real test will be how it performs with unseen data, so let's take a look at the confusion matrix for the test data. "
   ]
  },
  {
   "cell_type": "code",
   "execution_count": 29,
   "id": "87d43c55",
   "metadata": {},
   "outputs": [
    {
     "data": {
      "image/png": "[encoded data removed]",
      "text/plain": [
       "<Figure size 640x480 with 2 Axes>"
      ]
     },
     "metadata": {},
     "output_type": "display_data"
    }
   ],
   "source": [
    "#Test Confusion Matrix\n",
    "plot_confusion_matrix(y_test, y_pred_test)"
   ]
  },
  {
   "cell_type": "markdown",
   "id": "aaff6c38",
   "metadata": {},
   "source": [
    "With the confusion matrix for the test data, we are no longer perfect as we have 6.61% False Negatives and 19.36% False Positives. This is in line with the Logistic Regression model, so let's take a look at the Scores for this model. "
   ]
  },
  {
   "cell_type": "code",
   "execution_count": 30,
   "id": "f99fd134",
   "metadata": {},
   "outputs": [
    {
     "name": "stdout",
     "output_type": "stream",
     "text": [
      "Accuracy: 0.74\n",
      "Precision: 0.719\n",
      "Recall: 0.882\n",
      "F1: 0.792\n",
      "Balanced Accuracy: 0.721\n"
     ]
    }
   ],
   "source": [
    "Scores(y_test,y_pred_test)"
   ]
  },
  {
   "cell_type": "markdown",
   "id": "9f594404",
   "metadata": {},
   "source": [
    "We have slightly lower scores in all metrics when compared to the Logistic Regression Model: Accuracy (.9%), Precision (.6%), Recall (.7%), F1 (.7%), Balanced Accuracy (.8%). This means the models are really close, but the Logistic Regression model slightly edges the Random Forest when using these metrics. Based on all this info, we can conclude that the Logistic Regression model is the better option, but they are so close that it could go either way. "
   ]
  },
  {
   "cell_type": "markdown",
   "id": "5fba9294",
   "metadata": {},
   "source": [
    "## Conclusion<a id='Conclusion'></a>"
   ]
  },
  {
   "cell_type": "markdown",
   "id": "15afa122",
   "metadata": {},
   "source": [
    "After creating a baseline model and then running a Logistic Regression and Random Forest model, we see that the Logistic Regression has the best prediction among all the models. Most importantly, it is a way better predictor than just guessing the mean each time as it beats out the accuracy by around 19%. Between the Logistic Regression and the Random Forest model, we see slightly better results from the Logistic Regression model, but because the results are so close, it may be worth exploring with Cross Validation which model is truly better, as well as try some additional models. We can also look into creating more features and tune some hyper-parameters to help with the model performance as well. "
   ]
  },
  {
   "cell_type": "code",
   "execution_count": null,
   "id": "7cdd838f",
   "metadata": {},
   "outputs": [],
   "source": []
  }
 ],
 "metadata": {
  "kernelspec": {
   "display_name": "Python 3 (ipykernel)",
   "language": "python",
   "name": "python3"
  },
  "language_info": {
   "codemirror_mode": {
    "name": "ipython",
    "version": 3
   },
   "file_extension": ".py",
   "mimetype": "text/x-python",
   "name": "python",
   "nbconvert_exporter": "python",
   "pygments_lexer": "ipython3",
   "version": "3.9.13"
  }
 },
 "nbformat": 4,
 "nbformat_minor": 5
}
